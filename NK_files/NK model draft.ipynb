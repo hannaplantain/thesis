{
 "cells": [
  {
   "cell_type": "markdown",
   "metadata": {},
   "source": [
    "## NK Model"
   ]
  },
  {
   "cell_type": "code",
   "execution_count": 1,
   "metadata": {},
   "outputs": [],
   "source": [
    "#import necessary packages\n",
    "import numpy as np\n",
    "import random as rd\n",
    "#set values of N and K here\n",
    "N = 4\n",
    "K = 2\n",
    "X = 2**(K+1) #=total fitness contributions per gene (= columns in fitness matrix)"
   ]
  },
  {
   "cell_type": "markdown",
   "metadata": {},
   "source": [
    "Creating 3 matrices with versions of NK model:\n",
    "- NK - without neutrality\n",
    "- NKp - with neutrality (probabilistic)\n",
    "- NKq - with neutrality (quantised)"
   ]
  },
  {
   "cell_type": "code",
   "execution_count": 14,
   "metadata": {},
   "outputs": [],
   "source": [
    "#create fitness matrix without neutrality: simply array of shape (N,X), filled with random decimals \n",
    "fmk = np.random.rand(N, X)\n",
    "\n",
    "#NKp: reduce fraction of fitness contributions in fm to 0\n",
    "# p = probability a value is set to 0\n",
    "# Verel et al.: p ∈ {0.5, 0.8, 0.9}; Geard et al. p = ((N-1)/N) -  but explore options\n",
    "p = ((N-1)/N) #is it? :)\n",
    "fmp = np.where(np.random.rand(*fmk.shape) < p, 0, fmk)\n",
    "\n",
    "#NKq: fitness contribution < 0.5 == 0, > 0.5 == 1\n",
    "# q = number of quantiles (or levels). q > 1 - i.e. setting q as 2 will divide the decimals in two groups of integers: 0 and 1. \n",
    "# Verel et al. (2011) - q ∈ {2, 4, 10} - but explore options - Higher q -> lower neutrality \n",
    "q = 4\n",
    "fmq = np.digitize(fmk, bins=np.linspace(0, 1, q+1), right=True) - 1"
   ]
  },
  {
   "cell_type": "markdown",
   "metadata": {},
   "source": [
    "Choose neutrality version:"
   ]
  },
  {
   "cell_type": "code",
   "execution_count": 15,
   "metadata": {},
   "outputs": [],
   "source": [
    "#replace fmk in following line with \"fmp\" or \"fmq\" when adding probabilistic or quantized neutrality to model\n",
    "fm = np.copy(fmp) \n"
   ]
  },
  {
   "cell_type": "markdown",
   "metadata": {},
   "source": [
    "Creating corresponding epistasis matrix"
   ]
  },
  {
   "cell_type": "code",
   "execution_count": 16,
   "metadata": {},
   "outputs": [
    {
     "name": "stdout",
     "output_type": "stream",
     "text": [
      "identity matrix\n",
      "[[0 1 2 3 4 5 6 7]\n",
      " [0 1 2 3 4 5 6 7]\n",
      " [0 1 2 3 4 5 6 7]\n",
      " [0 1 2 3 4 5 6 7]]\n",
      "binary identity matrix\n",
      "[['0000' '0001' '0010' '0011' '0100' '0101' '0110' '0111']\n",
      " ['0000' '0001' '0010' '0011' '0100' '0101' '0110' '0111']\n",
      " ['0000' '0001' '0010' '0011' '0100' '0101' '0110' '0111']\n",
      " ['0000' '0001' '0010' '0011' '0100' '0101' '0110' '0111']]\n"
     ]
    }
   ],
   "source": [
    "#creates \"identity matrix\": array with genomes\n",
    "im0 = np.arange(0, X, 1)\n",
    "im1 = im0[np.newaxis, :]\n",
    "im = np.repeat(im1, N, axis=0)\n",
    "print(\"identity matrix\")\n",
    "print(im)\n",
    "\n",
    "#Binary representation of im (just for visualisation)\n",
    "imbin = np.vectorize(np.binary_repr)(im, 4) #increase to 8/16/32 with larger N \n",
    "print(\"binary identity matrix\")\n",
    "print(imbin)\n"
   ]
  },
  {
   "cell_type": "code",
   "execution_count": 17,
   "metadata": {},
   "outputs": [],
   "source": [
    "#important: in this version each gene influenced by K others, but genes \n",
    "# can influence >2 other genes, so some are (way) more influential than others\n",
    "# print a few times to see\n",
    "val = list(range(1, N+1))\n",
    "em1 = []\n",
    "for row in range(1, N + 1):\n",
    "    rd.shuffle(val)  # Shuffle the values\n",
    "    em1.append(val[:2])  # Take the first two values to create a pair\n",
    "em1 = np.array(em1)"
   ]
  },
  {
   "cell_type": "code",
   "execution_count": 18,
   "metadata": {},
   "outputs": [
    {
     "name": "stdout",
     "output_type": "stream",
     "text": [
      "Epistasis matrix with repetition\n",
      "[[1 2]\n",
      " [3 1]\n",
      " [1 4]\n",
      " [3 4]]\n",
      "Epistasis matrix without repetition\n",
      "[[4 2]\n",
      " [1 3]\n",
      " [2 4]\n",
      " [3 1]]\n"
     ]
    }
   ],
   "source": [
    "#important: in this version each gene influenced by K others, and influences K others, so all equally influential\n",
    "def generate_all_moved_permutation_tree(level, nums):\n",
    "    if len(nums) == 0:\n",
    "        raise RuntimeError('generate_permutation_tree must be called with a non-empty nums list')\n",
    "    if len(nums) == 1:\n",
    "        if level == nums[0]:\n",
    "            return None\n",
    "        else:\n",
    "            return {nums[0]: {}}\n",
    "    allowed_nums = list(nums)\n",
    "    if level in allowed_nums:\n",
    "        allowed_nums.remove(level)\n",
    "    result = {}\n",
    "    for n in allowed_nums:\n",
    "        sublevel_nums = list(nums)\n",
    "        if n in sublevel_nums:\n",
    "            sublevel_nums.remove(n)\n",
    "        subtree = generate_all_moved_permutation_tree(level + 1, sublevel_nums)\n",
    "        if subtree is not None:\n",
    "            result[n] = subtree\n",
    "    if len(result) == 0:\n",
    "        return None\n",
    "    return result\n",
    "\n",
    "def pick_an_all_moved_permutation(all_moved_permutation_tree, picked_numbers=None):\n",
    "    if picked_numbers is None:\n",
    "        picked_numbers = set()\n",
    "    allowed_numbers = set(all_moved_permutation_tree.keys()) - picked_numbers\n",
    "    if not allowed_numbers:\n",
    "        return []\n",
    "    \n",
    "    n = rd.choice(list(allowed_numbers))\n",
    "    picked_numbers.add(n)\n",
    "    \n",
    "    l = [n]\n",
    "    sub_tree = all_moved_permutation_tree[n]\n",
    "    \n",
    "    if len(sub_tree) > 0:\n",
    "        l.extend(pick_an_all_moved_permutation(sub_tree, picked_numbers))\n",
    "    \n",
    "    return l\n",
    "\n",
    "def generate_unique_rows(t, num_rows):\n",
    "    result = []\n",
    "    for _ in range(num_rows):\n",
    "        row = list(zip(pick_an_all_moved_permutation(t), pick_an_all_moved_permutation(t)))\n",
    "        while any(x[0] == x[1] for x in row):\n",
    "            row = list(zip(pick_an_all_moved_permutation(t), pick_an_all_moved_permutation(t)))\n",
    "        result.extend(row)\n",
    "    return np.array(result[:num_rows])\n",
    "\n",
    "t = generate_all_moved_permutation_tree(1, range(1, 5))\n",
    "em2 = generate_unique_rows(t, 4)\n",
    "\n",
    "#for comparison: (can be removed)\n",
    "print(\"Epistasis matrix with repetition\")\n",
    "print(em1)\n",
    "print(\"Epistasis matrix without repetition\")\n",
    "print(em2)"
   ]
  },
  {
   "cell_type": "markdown",
   "metadata": {},
   "source": [
    "Calculating coefficients ai0 to aij"
   ]
  },
  {
   "cell_type": "code",
   "execution_count": 19,
   "metadata": {},
   "outputs": [
    {
     "name": "stdout",
     "output_type": "stream",
     "text": [
      "Coefficient matrix fmp\n",
      "[[ 0.          0.          0.          0.33746189  0.          0.\n",
      "   0.         -0.33746189]\n",
      " [ 0.          0.          0.          0.49378642  0.3193987  -0.3193987\n",
      "  -0.3193987  -0.17438773]\n",
      " [ 0.          0.          0.          0.          0.75378389 -0.75378389\n",
      "  -0.75378389  1.23816875]\n",
      " [ 0.          0.          0.55014462 -0.55014462  0.          0.\n",
      "  -0.55014462  0.55014462]]\n"
     ]
    }
   ],
   "source": [
    "def calc_a(K, fm): \n",
    "    a_coef = []\n",
    "    for r in fm:\n",
    "        a = [0.0] * X  # creates list with zeros as floats for each row & X cols\n",
    "        a[0] = r[0] #because ai0=Fi0 # Calculate ai0 for i = 0\n",
    "        for j in range(1, X): \n",
    "            sum = 0.0 \n",
    "            for l in range(0, j): #only already calculated coeff\n",
    "                if l == (l & j): #if l equal to bitwise AND of l and j (001&101->001 so TRUE, 001&100->000 so FALSE)\n",
    "                    sum += a[l] \n",
    "            a[j] = r[j] - sum \n",
    "        a_coef.append(a) # append new a's into a_values array\n",
    "    return a_coef\n",
    "\n",
    "a_coef = calc_a(K, fm)\n",
    "\n",
    "a_shape = np.reshape(a_coef, (N,X))\n",
    "\n",
    "if np.array_equal(fm, fmk): \n",
    "    print(\"Coefficient matrix fmk\")\n",
    "elif np.array_equal(fm, fmp):\n",
    "    print(\"Coefficient matrix fmp\")\n",
    "else: \n",
    "    print(\"Coefficient matrix fmq\")\n",
    "print(a_shape) "
   ]
  },
  {
   "cell_type": "markdown",
   "metadata": {},
   "source": [
    "Compute model for genome fitness"
   ]
  },
  {
   "cell_type": "code",
   "execution_count": null,
   "metadata": {},
   "outputs": [],
   "source": [
    "#To-do\n"
   ]
  }
 ],
 "metadata": {
  "kernelspec": {
   "display_name": "Python 3",
   "language": "python",
   "name": "python3"
  },
  "language_info": {
   "codemirror_mode": {
    "name": "ipython",
    "version": 3
   },
   "file_extension": ".py",
   "mimetype": "text/x-python",
   "name": "python",
   "nbconvert_exporter": "python",
   "pygments_lexer": "ipython3",
   "version": "3.10.8"
  }
 },
 "nbformat": 4,
 "nbformat_minor": 2
}
