{
 "cells": [
  {
   "cell_type": "markdown",
   "metadata": {},
   "source": [
    "## NK Model"
   ]
  },
  {
   "cell_type": "markdown",
   "metadata": {},
   "source": [
    "### Introduction"
   ]
  },
  {
   "cell_type": "markdown",
   "metadata": {},
   "source": [
    "This notebook (...)."
   ]
  },
  {
   "cell_type": "markdown",
   "metadata": {},
   "source": [
    "### Parameters and settings\n"
   ]
  },
  {
   "cell_type": "markdown",
   "metadata": {},
   "source": [
    "All parameter settings and modeling choices go in this section."
   ]
  },
  {
   "cell_type": "code",
   "execution_count": 1,
   "metadata": {},
   "outputs": [],
   "source": [
    "# MODEL PARAMETERS\n",
    "N = 4 # length of each genome\n",
    "K_i = 2 # ruggedness parameter of the NK model for individual fitness\n",
    "K_g = K_i # ruggedness parameter of the NK model for groups\n",
    "G = 50 # number of groups\n",
    "I = 100 # maximum number of individuals per group\n",
    "gen_time = 10 # generation time of groups relative tot that of individuals \n",
    "\n",
    "# NEUTRALIY\n",
    "neutrality_i = \"NKp\" # fitness model at individual level; choose \"NK\", \"NKp\", or \"NKq\"\n",
    "neutrality_g = \"NKp\" # fitness model at individual level; choose \"NK\", \"NKp\", or \"NKq\"\n",
    "p_i = 0.5 # p of NKp for individual-level fitness\n",
    "p_g = p_i # p of NKp for group-level fitness\n",
    "q_i = 4 # q of NKq for individual-level fitness\n",
    "q_g = q_i # q of NKq for group-level fitness\n",
    "\n",
    "# NETWORK PROPERTIES\n",
    "\"\"\"\n",
    "choose \"r\" for sampling with replacement, \n",
    "\"nr\" for without replacement, \n",
    "\"block\" for blockwise interactions\n",
    "\"\"\"\n",
    "network_i = \"r\"\n",
    "network_g = \"r\"\n",
    "\n",
    "# SIMULATION PARAMETERS\n",
    "my_seed = 10 # random seed\n",
    "t_end = 1000 # end time, in units of individual generation times."
   ]
  },
  {
   "cell_type": "markdown",
   "metadata": {},
   "source": [
    "### Packages"
   ]
  },
  {
   "cell_type": "code",
   "execution_count": 3,
   "metadata": {},
   "outputs": [],
   "source": [
    "#import necessary packages\n",
    "import numpy as np\n",
    "import random as rd\n",
    "import matplotlib.pyplot as plot\n",
    "from mpl_toolkits.mplot3d import Axes3D\n",
    "from sklearn.linear_model import LinearRegression\n",
    "\n",
    "#set style for all plots\n",
    "plot.style.use(\"seaborn-v0_8-colorblind\")"
   ]
  },
  {
   "cell_type": "markdown",
   "metadata": {},
   "source": [
    "### Shorthands"
   ]
  },
  {
   "cell_type": "markdown",
   "metadata": {},
   "source": [
    "Calculate shorthands that will be used throughout the simulation."
   ]
  },
  {
   "cell_type": "code",
   "execution_count": 4,
   "metadata": {},
   "outputs": [],
   "source": [
    "B_i = 2**(K_i + 1) # number of hypercube corners for the fitness contributions of each gene\n",
    "# (= columns in fitness matrix) at the individual level \n",
    "B_g = 2**(K_g + 1) # number of hypercube corners for the fitness contributions of each gene\n",
    "# (= columns in fitness matrix) at the group level"
   ]
  },
  {
   "cell_type": "markdown",
   "metadata": {},
   "source": [
    "### Global variables"
   ]
  },
  {
   "cell_type": "markdown",
   "metadata": {},
   "source": [
    "Define and create global variables that will be used thoughout the simulation."
   ]
  },
  {
   "cell_type": "code",
   "execution_count": 23,
   "metadata": {},
   "outputs": [],
   "source": [
    "# fitness matrix\n",
    "fm_i = np.zeros((N, B_i)) # invullen: lege array N x B_j\n",
    "fm_g = np.zeros((N, B_g)) # invullen: lege arry N x B_g\n",
    "\n",
    "# epistasis matrices\n",
    "val = list(range(0, N))\n",
    "\n",
    "# (initial) genomes/coordinates individual and group level\n",
    "ind_genomes = np.random.randint(0, 2, size = (I, N)) #randomly generates binary genomes for all individuals \n",
    "##ind_genomes_gr = #individuals grouped, not sure yet what smartest way is\n",
    "##gr_genomes = np.mean(ind_genomes_gr, axis=0,) #takes avg of each column to generate group genome - exact method depends on grouping method\n",
    "\n",
    "# fitness values\n",
    "#f_i = # absolute fitness individual level\n",
    "f_i_comp = np.random.rand(I, N) #randomly generates fitness contributions associated with gene values of all individuals\n",
    "f_i = np.mean(f_i_comp, axis=1,) #absolute fitness of all individuals (=avg by row of f_i_comp)\n",
    "f_i = f_i.reshape(-1, 1) \n",
    "#f_g = # absolute fitness group level\n",
    "\n",
    "#w_i = # relative fitness individual level\n",
    "\n",
    "#w_g = # relative fitness group level"
   ]
  },
  {
   "cell_type": "markdown",
   "metadata": {},
   "source": [
    "### Function definitions"
   ]
  },
  {
   "cell_type": "markdown",
   "metadata": {},
   "source": [
    "#### ... for constructing epistasis matrix without repetition"
   ]
  },
  {
   "cell_type": "code",
   "execution_count": null,
   "metadata": {},
   "outputs": [],
   "source": [
    "#functions to create epistasis matrices without repeats\n",
    "def generate_all_perm_tree(level, nums): \n",
    "    \"\"\"\n",
    "    recursively generates tree structure with all possible permutations of given 'nums',\n",
    "    where each number is allowed to move to next position in permutation, excluding repeats\n",
    "    - level: Current level in the permutation.\n",
    "    - nums (list): list of numbers to permute.\n",
    "    returns:\n",
    "    - dict: nested dictionary representing the permutation tree structure.\n",
    "        Each key is a number, and corresponding value is the subtree for the next level.\n",
    "    \"\"\"\n",
    "    if len(nums) == 1:\n",
    "        if level == nums[0]:\n",
    "            return None\n",
    "        else:\n",
    "            return {nums[0]: {}}\n",
    "    allowed_number = list(nums)\n",
    "    if level in allowed_number:\n",
    "        allowed_number.remove(level)\n",
    "    result = {}\n",
    "    for number in allowed_number:\n",
    "        sublevel_number = list(nums)\n",
    "        if number in sublevel_number:\n",
    "            sublevel_number.remove(number)\n",
    "        subtree = generate_all_perm_tree(level + 1, sublevel_number)\n",
    "        if subtree is not None:\n",
    "            result[number] = subtree\n",
    "    if len(result) == 0:\n",
    "        return None\n",
    "    return result\n",
    "\n",
    "def pick_all_moved_perm(all_moved_perm_tree, picked=None):#picks permutation of numbers from previously generated tree, with each number selected only once\n",
    "    \"\"\"\n",
    "    Picks permutation of numbers from previously generated tree, with each number selected only once\n",
    "    - all_moved_perm_tree (dictionary): The permutation tree generated by generate_all_perm_tree\n",
    "    - picked: set of numbers already picked.\n",
    "    Returns:\n",
    "    - list: representing a permutation of numbers\n",
    "    \"\"\"\n",
    "    if picked is None:\n",
    "        picked = set()\n",
    "    allowed_num_set = set(all_moved_perm_tree.keys()) - picked\n",
    "    if not allowed_num_set:\n",
    "        return []\n",
    "    number = rd.choice(list(allowed_num_set))\n",
    "    picked.add(number)\n",
    "    l = [number]\n",
    "    sub_tree = all_moved_perm_tree[number]\n",
    "    if len(sub_tree) > 0:\n",
    "        l.extend(pick_all_moved_perm(sub_tree, picked))\n",
    "    return l\n",
    "\n",
    "def generate_unique_r(tree, num_rows): \n",
    "    \"\"\"\n",
    "    Generates an array of unique pairs of numbers, with no number repeated in a row\n",
    "    - tree (dict):the permutation tree generated by generate_all_moved_perm_tree.\n",
    "    - num_rows: the number of rows to generate.\n",
    "    Returns:\n",
    "    - 2d array representing unique pairs of numbers in each row\n",
    "    \"\"\"\n",
    "    result = []\n",
    "    for _ in range(num_rows):\n",
    "        row = list(zip(pick_all_moved_perm(tree), pick_all_moved_perm(tree)))\n",
    "        while any(x[0] == x[1] for x in row):\n",
    "            row = list(zip(pick_all_moved_perm(tree), pick_all_moved_perm(tree)))\n",
    "        result.extend(row)\n",
    "    return np.array(result[:num_rows])\n",
    "\n",
    "tree = generate_all_perm_tree(1, range(1, N+1))"
   ]
  },
  {
   "cell_type": "markdown",
   "metadata": {},
   "source": [
    "#### ... for choosing preferred epistasis"
   ]
  },
  {
   "cell_type": "code",
   "execution_count": 27,
   "metadata": {},
   "outputs": [
    {
     "ename": "SyntaxError",
     "evalue": "invalid syntax (3810782164.py, line 14)",
     "output_type": "error",
     "traceback": [
      "\u001b[1;36m  Cell \u001b[1;32mIn[27], line 14\u001b[1;36m\u001b[0m\n\u001b[1;33m    em = #working on it :)\u001b[0m\n\u001b[1;37m         ^\u001b[0m\n\u001b[1;31mSyntaxError\u001b[0m\u001b[1;31m:\u001b[0m invalid syntax\n"
     ]
    }
   ],
   "source": [
    "def create_epistasis_matrix_i(): #epistasis matrix individual level\n",
    "    em = []\n",
    "    match network_i:\n",
    "        case [\"r\"]:\n",
    "            for row in range(N):\n",
    "                val = list(range(0, N))\n",
    "                gene_pair = rd.sample(val[:row] + val[row + 1:], K_i)  \n",
    "                em_ri.append([row] + gene_pair)\n",
    "            em_ri = np.array(em_ri)  #first with own gene referenced\n",
    "            em_ri = em_ri[:, 1:] #without own gene referenced #remove this row or above\n",
    "        case [\"nr\"]:\n",
    "            em = generate_unique_r(tree, N)\n",
    "        case [\"block\"]:\n",
    "            em = #working on it :)\n",
    "    return em\n",
    "\n",
    "def create_epistasis_matrix_g(): #epistasis matrix group level\n",
    "    em = []\n",
    "    match network_g:\n",
    "        case [\"r\"]:\n",
    "            for row in range(N):\n",
    "                val = list(range(0, N))\n",
    "                gene_pair = rd.sample(val[:row] + val[row + 1:], K_g)  #Select K unique genes \n",
    "                em_rg.append([row] + gene_pair)  # Row number added to the beginning\n",
    "            em_rg = np.array(em_rg)  #first with own gene referenced\n",
    "            em_rg = em_rg[:, 1:] \n",
    "        case [\"nr\"]:\n",
    "            em = generate_unique_r(tree, N)\n",
    "        case [\"block\"]:\n",
    "            em = #working on it :)\n",
    "    return em"
   ]
  },
  {
   "cell_type": "markdown",
   "metadata": {},
   "source": [
    "#### ... for constructing fitness landscapes"
   ]
  },
  {
   "cell_type": "code",
   "execution_count": 6,
   "metadata": {},
   "outputs": [],
   "source": [
    "def create_fitness_matrix_i():\n",
    "    fm = np.random.rand(N, B_i)\n",
    "    match neutrality_i:\n",
    "        case [\"NK\"]:\n",
    "            #\n",
    "            pass\n",
    "        case [\"NKp\"]:\n",
    "            fm = np.where(np.random.rand(*fm.shape) < p_i, 0, fm) \n",
    "        case [\"NKq\"]:\n",
    "            fm = np.digitize(fm, bins=np.linspace(0, 1, q_i+1), right=True) - 1\n",
    "    return fm\n",
    "\n",
    "def create_fitness_matrix_g():\n",
    "    fm = np.random.rand(N, B_g)\n",
    "    match neutrality_g:\n",
    "        case [\"NK\"]:\n",
    "            #\n",
    "            pass\n",
    "        case [\"NKp\"]:\n",
    "            fm = np.where(np.random.rand(*fm.shape) < p_g, 0, fm) \n",
    "        case [\"NKq\"]:\n",
    "            fm = np.digitize(fm, bins=np.linspace(0, 1, q_g+1), right=True) - 1\n",
    "    return fm"
   ]
  },
  {
   "cell_type": "markdown",
   "metadata": {},
   "source": [
    "#### ... for calculating coefficients (ai0 to aij)"
   ]
  },
  {
   "cell_type": "code",
   "execution_count": 26,
   "metadata": {},
   "outputs": [],
   "source": [
    "def calc_a(K, fm): \n",
    "    \"\"\"\n",
    "    calculate and return coefficients based on fitness matrix \n",
    "    - K: number of rows in the matrix\n",
    "    - fm: fitness matrix\n",
    "    Returns:\n",
    "    - List containing 'a' coefficients for each row of the input matrix\n",
    "    \"\"\"\n",
    "    a_coefficients = []\n",
    "    for r in fm:\n",
    "        a = [0.0] * B_g  # initialises list with zeros as floats for each row & X cols\n",
    "        a[0] = r[0] #set ai0 to Fi0 \n",
    "        for j in range(1, B_g): \n",
    "            sum = 0.0 \n",
    "            # Calculate next coefs based only on previously calculated coefs\n",
    "            for l in range(0, j): \n",
    "                #check if l equal to bitwise AND of l and j \n",
    "                #(ex: 001&101->001 TRUE; 001&100->000 FALSE)\n",
    "                if l == (l & j): \n",
    "                    sum += a[l] \n",
    "            a[j] = r[j] - sum #update currect coef\n",
    "        a_coefficients.append(a) # append new a's into result array\n",
    "    return a_coefficients"
   ]
  },
  {
   "cell_type": "markdown",
   "metadata": {},
   "source": [
    "#### ... for calculating fitness values"
   ]
  },
  {
   "cell_type": "code",
   "execution_count": 7,
   "metadata": {},
   "outputs": [],
   "source": [
    "#fitness functions\n",
    "def gene_fitness(coefficients, epistasis, genome, gene):\n",
    "    \"\"\"\n",
    "    Calculate the fitness component of a specific gene in a genome\n",
    "    - coefficients (array): coefficient matrix as calculated by calc_a\n",
    "    - epistasis (\"): Epistasis matrix representing interactions between genes\n",
    "    - genome (\"): genome values\n",
    "    - gene (int): index of specific gene for which fitness component is calculated\n",
    "    Returns:\n",
    "    - fitness component of the specified gene in the genome (float)\n",
    "    \"\"\"\n",
    "    result = 0\n",
    "\n",
    "    for j in range(coefficients.shape[1]):\n",
    "        contribution = coefficients[gene, j] * genome[gene] ** (1 & j)\n",
    "        for k in range(epistasis.shape[1]):\n",
    "            epi_index = epistasis[gene, k]\n",
    "            epi_value = genome[epi_index]\n",
    "            product_term = epi_value ** ((2**k & j) / 2**k)\n",
    "            contribution *= product_term\n",
    "\n",
    "        result += contribution\n",
    "    return result\n",
    "\n",
    "#function to calculate all fitness components within genome\n",
    "def genome_fitness(coefficients, epistasis, genome):\n",
    "    \"\"\"\n",
    "    Calculate fitness components for all genes within a genome \n",
    "    return:\n",
    "    array containing fitness components for each gene in the genome\n",
    "    \"\"\"\n",
    "    fit_vals = np.zeros(len(genome))\n",
    "\n",
    "    for gene in range(len(genome)):\n",
    "        fit_vals[gene] = gene_fitness(coefficients, epistasis, genome, gene)\n",
    "    return fit_vals\n",
    "\n",
    "#function to calculate fitness components for all genes in all genomes\n",
    "def calculate_fitness(coefficients, epistasis, genomes):\n",
    "    \"\"\"\n",
    "    Calculate the fitness components for all genes in all genomes\n",
    "    Return:\n",
    "    2D array containing fitness components for each gene (cols) in each genome (rows)\n",
    "    \"\"\"\n",
    "    M, N = len(genomes), len(genomes[0])\n",
    "    fit_val = np.zeros((M, N))\n",
    "\n",
    "    for group in range(M):\n",
    "        fit_val[group, :] = genome_fitness(coefficients, epistasis, genomes[group])\n",
    "    return fit_val"
   ]
  },
  {
   "cell_type": "markdown",
   "metadata": {},
   "source": [
    "#### ... for running simulations"
   ]
  },
  {
   "cell_type": "code",
   "execution_count": null,
   "metadata": {},
   "outputs": [],
   "source": [
    "def initialize_genomes():\n",
    "    #sth\n",
    "\n",
    "def update_rates(): \n",
    "    #sth\n",
    "\n",
    "def choose_event(rates): \n",
    "    #sth\n",
    "\n",
    "def execute_reaction(event):\n",
    "    #sth"
   ]
  },
  {
   "cell_type": "markdown",
   "metadata": {},
   "source": [
    "### Tests"
   ]
  },
  {
   "cell_type": "code",
   "execution_count": null,
   "metadata": {},
   "outputs": [],
   "source": [
    "#to-do ma/di\n",
    "#testing for multilinearity continuous NK model: vary one coordinate/gene value of a group genome, while keeping others constant:\n",
    "ind = 1 #pick specific group based on id \n",
    "varying_gene_vals = np.linspace(0, 1, 100) #100 regularly spaced values between 0 and 1\n",
    "constant_gene_vals = coords[ind-1, 1:] #takes coordinates/gene values from the chosen genome\n",
    "var_coords = np.zeros((100, N)) #creates array with 100 rows for storing coordinates\n",
    "var_coords[:, 0] = varying_gene_vals \n",
    "var_coords[:, 1:] = np.tile(constant_gene_vals, (100, 1)) #result is array of shape (100, N), with new values in first column and constant coords in other columns\n",
    "\n",
    "a__rep = np.tile(coef[ind-1], (100, 1)) #Create new array for a_shape with values selected genome repeated 100 times\n",
    "em_rep = np.tile(em[ind-1], (100, 1)) #wrong\n",
    "\n",
    "#fitness funciton that iterates through all rows of the new array with 100 rows with varied coord\n",
    "def calculate_fitness_var(coefficients, epistasis, genomes):\n",
    "    fit_val = np.zeros((100, N))\n",
    "\n",
    "    for group in range(100):\n",
    "        genome = genomes[group]\n",
    "        for gene in range(N):\n",
    "            result = 0  # Initialize with 0\n",
    "            for j in range(coefficients.shape[1]):  # summation & multiplication, bitwise \n",
    "                contribution = coefficients[gene, j] * genome[gene] ** (1 & j)\n",
    "                for k in range(epistasis.shape[1]):\n",
    "                    epi_index = epistasis[gene, k]\n",
    "                    epi_value = genome[epi_index]\n",
    "                    product_term = epi_value ** ((2 ** k & j) / 2 ** k)\n",
    "                    contribution *= product_term\n",
    "\n",
    "                result += contribution\n",
    "\n",
    "            fit_val[group, gene] = result\n",
    "    return fit_val\n",
    "\n",
    "fit_var = calculate_fitness_var(a_shape_rep, em2_inc, var_coords) #fitness components\n",
    "avg_fit = np.mean(fit_var, axis=1) #average fitness\n",
    "print(fit_var)"
   ]
  },
  {
   "cell_type": "markdown",
   "metadata": {},
   "source": [
    "## The simulation"
   ]
  },
  {
   "cell_type": "code",
   "execution_count": 19,
   "metadata": {},
   "outputs": [
    {
     "ename": "NameError",
     "evalue": "name 'initialize_genomes' is not defined",
     "output_type": "error",
     "traceback": [
      "\u001b[1;31m---------------------------------------------------------------------------\u001b[0m",
      "\u001b[1;31mNameError\u001b[0m                                 Traceback (most recent call last)",
      "Cell \u001b[1;32mIn[19], line 10\u001b[0m\n\u001b[0;32m      5\u001b[0m fm_g \u001b[38;5;241m=\u001b[39m create_fitness_matrix_g()\n\u001b[0;32m      6\u001b[0m \u001b[38;5;66;03m# (and so on)\u001b[39;00m\n\u001b[0;32m      7\u001b[0m \n\u001b[0;32m      8\u001b[0m \n\u001b[0;32m      9\u001b[0m \u001b[38;5;66;03m# INIITIALIZE\u001b[39;00m\n\u001b[1;32m---> 10\u001b[0m genomes \u001b[38;5;241m=\u001b[39m initialize_genomes()\n\u001b[0;32m     11\u001b[0m t \u001b[38;5;241m=\u001b[39m \u001b[38;5;241m0\u001b[39m\n\u001b[0;32m     12\u001b[0m \u001b[38;5;66;03m# RUN SIMULATIONS\u001b[39;00m\n",
      "\u001b[1;31mNameError\u001b[0m: name 'initialize_genomes' is not defined"
     ]
    }
   ],
   "source": [
    "rd.seed(my_seed) # set random seed\n",
    "\n",
    "# CONSTRUCT FITNESS LANDSCAPES \n",
    "fm_i = create_fitness_matrix_i()\n",
    "fm_g = create_fitness_matrix_g()\n",
    "# (and so on)\n",
    "\n",
    "\n",
    "# INIITIALIZE\n",
    "genomes = initialize_genomes()\n",
    "t = 0\n",
    "# RUN SIMULATIONS\n",
    "while t < t_end :\n",
    "    rates = update_rates()\n",
    "    propensity = sum(rates)\n",
    "    tau = np.random.exponential(scale=1 / propensity) # waiting time for next reaction\n",
    "    t = t + tau\n",
    "    event = choose_event(rates)\n",
    "    execute_reaction(event)\n"
   ]
  },
  {
   "cell_type": "markdown",
   "metadata": {},
   "source": [
    "## Results"
   ]
  }
 ],
 "metadata": {
  "kernelspec": {
   "display_name": "base",
   "language": "python",
   "name": "python3"
  },
  "language_info": {
   "codemirror_mode": {
    "name": "ipython",
    "version": 3
   },
   "file_extension": ".py",
   "mimetype": "text/x-python",
   "name": "python",
   "nbconvert_exporter": "python",
   "pygments_lexer": "ipython3",
   "version": "3.11.5"
  }
 },
 "nbformat": 4,
 "nbformat_minor": 2
}
