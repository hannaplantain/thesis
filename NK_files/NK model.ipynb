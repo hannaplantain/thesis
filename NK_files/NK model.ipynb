{
 "cells": [
  {
   "cell_type": "markdown",
   "metadata": {},
   "source": [
    "## NK Model"
   ]
  },
  {
   "cell_type": "code",
   "execution_count": 5,
   "metadata": {},
   "outputs": [],
   "source": [
    "#import necessary packages\n",
    "import numpy as np\n",
    "import random as rd\n",
    "#set values of N and K here\n",
    "N = 4\n",
    "K = 2\n",
    "B = 2**(K+1) #=total fitness contributions per gene (= columns in fitness matrix)\n",
    "M = 4 #total number of individuals (= # average genomes or groups)"
   ]
  },
  {
   "cell_type": "markdown",
   "metadata": {},
   "source": [
    "Creating 3 matrices with versions of NK model:\n",
    "- NK - without neutrality\n",
    "- NKp - with neutrality (probabilistic)\n",
    "- NKq - with neutrality (quantised)"
   ]
  },
  {
   "cell_type": "code",
   "execution_count": 6,
   "metadata": {},
   "outputs": [],
   "source": [
    "#create fitness matrix without neutrality: simply array of shape (N,X), filled with random decimals \n",
    "fmk = np.random.rand(N, B)\n",
    "\n",
    "#NKp: reduce fraction of fitness contributions in fm to 0\n",
    "# p = probability a value is set to 0\n",
    "# Verel et al.: p ∈ {0.5, 0.8, 0.9}; Geard et al. p = ((N-1)/N) -  but explore options\n",
    "p = ((N-1)/N) #is it? :)\n",
    "fmp = np.where(np.random.rand(*fmk.shape) < p, 0, fmk) \n",
    "#takes array of shape fmk and filled with random decimals, and if decimals in that array are below p, corresponding decimal from fmk becomes 0 in new array fmp\n",
    "\n",
    "#NKq: fitness contribution < 0.5 == 0, > 0.5 == 1\n",
    "# q = number of quantiles (or levels). q > 1 - i.e. setting q as 2 will divide the decimals in two groups of integers: 0 and 1. \n",
    "# Verel et al. (2011) - q ∈ {2, 4, 10} - but explore options - Higher q -> lower neutrality \n",
    "q = 4\n",
    "fmq = np.digitize(fmk, bins=np.linspace(0, 1, q+1), right=True) - 1\n",
    "#decimals from fmk split into q bins numbered from 0 to q-1, based on their decimal value, new values in array fmq"
   ]
  },
  {
   "cell_type": "markdown",
   "metadata": {},
   "source": [
    "Choose neutrality version:"
   ]
  },
  {
   "cell_type": "code",
   "execution_count": 7,
   "metadata": {},
   "outputs": [
    {
     "name": "stdout",
     "output_type": "stream",
     "text": [
      "[[0.33129837 0.69195667 0.48252751 0.72554683 0.63444559 0.97270456\n",
      "  0.38264242 0.52557461]\n",
      " [0.91749514 0.62603447 0.86754398 0.49760774 0.85065911 0.93576974\n",
      "  0.03285659 0.16766977]\n",
      " [0.02408884 0.17248762 0.06859054 0.03385047 0.06570673 0.15214895\n",
      "  0.08675703 0.42333469]\n",
      " [0.71643893 0.90442738 0.61668358 0.61218754 0.31482263 0.11946488\n",
      "  0.2239394  0.60994687]]\n"
     ]
    }
   ],
   "source": [
    "#replace fmk in following line with \"fmp\" or \"fmq\" when adding probabilistic or quantized neutrality to model\n",
    "#note: maybe for final code: one function to create model versions and choose \n",
    "##als het lukt?\n",
    "fm = np.copy(fmk) \n",
    "print(fm)"
   ]
  },
  {
   "cell_type": "markdown",
   "metadata": {},
   "source": [
    "Creating corresponding epistasis matrix"
   ]
  },
  {
   "cell_type": "code",
   "execution_count": 8,
   "metadata": {},
   "outputs": [
    {
     "name": "stdout",
     "output_type": "stream",
     "text": [
      "identity matrix\n",
      "[[0 1 2 3 4 5 6 7]\n",
      " [0 1 2 3 4 5 6 7]\n",
      " [0 1 2 3 4 5 6 7]\n",
      " [0 1 2 3 4 5 6 7]]\n",
      "binary identity matrix\n",
      "[['0000' '0001' '0010' '0011' '0100' '0101' '0110' '0111']\n",
      " ['0000' '0001' '0010' '0011' '0100' '0101' '0110' '0111']\n",
      " ['0000' '0001' '0010' '0011' '0100' '0101' '0110' '0111']\n",
      " ['0000' '0001' '0010' '0011' '0100' '0101' '0110' '0111']]\n"
     ]
    }
   ],
   "source": [
    "#creates \"identity matrix\": array with genome id's\n",
    "im0 = np.arange(0, B, 1)\n",
    "im1 = im0[np.newaxis, :]\n",
    "im = np.repeat(im1, N, axis=0)\n",
    "print(\"identity matrix\")\n",
    "print(im)\n",
    "\n",
    "#Binary representation of im (just for visualisation)\n",
    "imbin = np.vectorize(np.binary_repr)(im, 4) #increase 4 to to 8/16/32 with larger N \n",
    "print(\"binary identity matrix\")\n",
    "print(imbin)\n",
    "#maybe useful later"
   ]
  },
  {
   "cell_type": "code",
   "execution_count": 9,
   "metadata": {},
   "outputs": [
    {
     "name": "stdout",
     "output_type": "stream",
     "text": [
      "[[1 0 0]\n",
      " [2 1 1]\n",
      " [2 1 2]\n",
      " [1 3 3]]\n"
     ]
    }
   ],
   "source": [
    "#important: in this version each gene influenced by K others, but genes \n",
    "# can influence >2 other genes, so some are (way) more influential than others\n",
    "# print a few times to see\n",
    "val = list(range(0, N))\n",
    "em1 = []\n",
    "\n",
    "for row in range(N):\n",
    "    rd.shuffle(val)  #shuffle the values\n",
    "    em1.append(val[:2] + [row])  #epistatic genes as pair and row number added\n",
    "\n",
    "em1_inc = np.array(em1) #with own gene referenced\n",
    "print(em1_inc)\n",
    "\n",
    "em1 = (em1_inc[:, :-1]) #without own gene referenced\n"
   ]
  },
  {
   "cell_type": "code",
   "execution_count": 10,
   "metadata": {},
   "outputs": [
    {
     "name": "stdout",
     "output_type": "stream",
     "text": [
      "Epistasis matrix with repetition\n",
      "[[1 0 0]\n",
      " [2 1 1]\n",
      " [2 1 2]\n",
      " [1 3 3]]\n",
      "Epistasis matrix without repetition\n",
      "[[1 2 0]\n",
      " [2 3 1]\n",
      " [3 0 2]\n",
      " [0 1 3]]\n"
     ]
    }
   ],
   "source": [
    "#important: in this version each gene influenced by K others, and influences K others, so all equally influential\n",
    "#help from stackoverflow user\n",
    "#generates tree (nested dictionary) of all possible permutations of list of numbers except for a specified level\n",
    "def generate_all_moved_perm_tree(level, nums):\n",
    "    if len(nums) == 1:\n",
    "        if level == nums[0]:\n",
    "            return None\n",
    "        else:\n",
    "            return {nums[0]: {}}\n",
    "    allowed_n = list(nums)\n",
    "    if level in allowed_n:\n",
    "        allowed_n.remove(level)\n",
    "    result = {}\n",
    "    for n in allowed_n:\n",
    "        sublevel_n = list(nums)\n",
    "        if n in sublevel_n:\n",
    "            sublevel_n.remove(n)\n",
    "        subtree = generate_all_moved_perm_tree(level + 1, sublevel_n)\n",
    "        if subtree is not None:\n",
    "            result[n] = subtree\n",
    "    if len(result) == 0:\n",
    "        return None\n",
    "    return result\n",
    "\n",
    "#picks permutation of numbers from previously generated tree, with each number selected only once\n",
    "def pick_all_moved_perm(all_moved_perm_tree, picked=None):\n",
    "    if picked is None:\n",
    "        picked = set()\n",
    "    allowed_ns = set(all_moved_perm_tree.keys()) - picked\n",
    "    if not allowed_ns:\n",
    "        return []\n",
    "    n = rd.choice(list(allowed_ns))\n",
    "    picked.add(n)\n",
    "    l = [n]\n",
    "    sub_tree = all_moved_perm_tree[n]\n",
    "    if len(sub_tree) > 0:\n",
    "        l.extend(pick_all_moved_perm(sub_tree, picked))\n",
    "    return l\n",
    "\n",
    "#generates array of unique pairs of numbers, with no number repeated in row \n",
    "def generate_unique_r(t, num_rows):\n",
    "    result = []\n",
    "    for _ in range(num_rows):\n",
    "        row = list(zip(pick_all_moved_perm(t), pick_all_moved_perm(t)))\n",
    "        while any(x[0] == x[1] for x in row):\n",
    "            row = list(zip(pick_all_moved_perm(t), pick_all_moved_perm(t)))\n",
    "        result.extend(row)\n",
    "    return np.array(result[:num_rows])\n",
    "\n",
    "t = generate_all_moved_perm_tree(1, range(1, N+1))\n",
    "em2 = generate_unique_r(t, N)\n",
    "\n",
    "#for comparison: (can be removed)\n",
    "print(\"Epistasis matrix with repetition\")\n",
    "print(em1_inc)\n",
    "print(\"Epistasis matrix without repetition\")\n",
    "em2 -= 1 #without own gene referenced\n",
    "\n",
    "em2_inc = np.hstack((em2, np.arange(em2.shape[0]).reshape(-1, 1)))\n",
    "print(em2_inc) #with own gene referenced \n",
    "\n",
    "##er moet een manier zijn om dit makkelijker te doen???"
   ]
  },
  {
   "cell_type": "markdown",
   "metadata": {},
   "source": [
    "Calculating coefficients ai0 to aij"
   ]
  },
  {
   "cell_type": "code",
   "execution_count": 11,
   "metadata": {},
   "outputs": [
    {
     "name": "stdout",
     "output_type": "stream",
     "text": [
      "Coefficient matrix fmk\n",
      "[[ 0.33129837  0.3606583   0.15122914 -0.11763898  0.30314721 -0.02239932\n",
      "  -0.4030323  -0.07768781]\n",
      " [ 0.91749514 -0.29146067 -0.04995116 -0.07847557 -0.06683602  0.37657129\n",
      "  -0.76785136  0.12817812]\n",
      " [ 0.02408884  0.14839878  0.04450169 -0.18313884  0.04161789 -0.06195656\n",
      "  -0.02345139  0.43327428]\n",
      " [ 0.71643893  0.18798846 -0.09975534 -0.1924845  -0.4016163  -0.3833462\n",
      "   0.00887211  0.77384972]]\n"
     ]
    }
   ],
   "source": [
    "def calc_a(K, fm): \n",
    "    a_coef = []\n",
    "    for r in fm:\n",
    "        a = [0.0] * B  # creates list with zeros as floats for each row & X cols\n",
    "        a[0] = r[0] #because ai0=Fi0 # Calculate ai0 for i = 0\n",
    "        for j in range(1, B): \n",
    "            sum = 0.0 \n",
    "            for l in range(0, j): #only already calculated coefficients\n",
    "                if l == (l & j): #if l equal to bitwise AND of l and j (ex: 001&101->001 so TRUE, 001&100->000 so FALSE)\n",
    "                    sum += a[l] \n",
    "            a[j] = r[j] - sum \n",
    "        a_coef.append(a) # append new a's into a_values array\n",
    "    return a_coef\n",
    "\n",
    "a_coef = calc_a(K, fm)\n",
    "a_shape = np.reshape(a_coef, (N, B))\n",
    "\n",
    "if np.array_equal(fm, fmk): \n",
    "    print(\"Coefficient matrix fmk\")\n",
    "elif np.array_equal(fm, fmp):\n",
    "    print(\"Coefficient matrix fmp\")\n",
    "else: \n",
    "    print(\"Coefficient matrix fmq\")\n",
    "print(a_shape) "
   ]
  },
  {
   "cell_type": "markdown",
   "metadata": {},
   "source": [
    "Compute model for genome fitness"
   ]
  },
  {
   "cell_type": "code",
   "execution_count": 12,
   "metadata": {},
   "outputs": [
    {
     "name": "stdout",
     "output_type": "stream",
     "text": [
      "coordinates within hypercube/avg. gene values (dimension N) of individual 1 to A\n",
      "[[0.39095908 0.38397755 0.61223727 0.89663243]\n",
      " [0.05493094 0.00825215 0.09704813 0.0726054 ]\n",
      " [0.68840634 0.35167659 0.75519214 0.07741936]\n",
      " [0.31803689 0.19888339 0.45866887 0.31894073]]\n",
      "[[ 0.33129837  0.3606583   0.15122914 -0.11763898  0.30314721 -0.02239932\n",
      "  -0.4030323  -0.07768781]\n",
      " [ 0.91749514 -0.29146067 -0.04995116 -0.07847557 -0.06683602  0.37657129\n",
      "  -0.76785136  0.12817812]\n",
      " [ 0.02408884  0.14839878  0.04450169 -0.18313884  0.04161789 -0.06195656\n",
      "  -0.02345139  0.43327428]\n",
      " [ 0.71643893  0.18798846 -0.09975534 -0.1924845  -0.4016163  -0.3833462\n",
      "   0.00887211  0.77384972]]\n",
      "[[0.39095908 0.38397755 0.61223727 0.89663243]\n",
      " [0.05493094 0.00825215 0.09704813 0.0726054 ]\n",
      " [0.68840634 0.35167659 0.75519214 0.07741936]\n",
      " [0.31803689 0.19888339 0.45866887 0.31894073]]\n",
      "[[1 2 0]\n",
      " [2 3 1]\n",
      " [3 0 2]\n",
      " [0 1 3]]\n"
     ]
    }
   ],
   "source": [
    "#array with all individuals\n",
    "coords = np.random.rand(M, N) #randomly generates coordinates within hypercube for all individuals\n",
    "print(\"coordinates within hypercube/avg. gene values (dimension N) of individual 1 to A\")\n",
    "print(coords)\n",
    "#replace by actual averages of individual genomes in each group in final integrated code!\n",
    "\n",
    "ind = 3 #pick specific individual based on id - can change final function to just look at one specific individual\n",
    "select = coords[ind-1,:] \n",
    "#for reference/checking, can be removed\n",
    "print(a_shape)\n",
    "print(coords)\n",
    "print(em2_inc)\n"
   ]
  },
  {
   "cell_type": "code",
   "execution_count": 13,
   "metadata": {},
   "outputs": [
    {
     "name": "stdout",
     "output_type": "stream",
     "text": [
      "Fitness components:\n",
      "[[0.48515858 0.54198959 0.13962084 0.33398207]\n",
      " [0.36063606 0.91262138 0.03139596 0.6870958 ]\n",
      " [0.49696112 0.82629505 0.08570096 0.65645846]\n",
      " [0.4565148  0.81826765 0.0721871  0.5768329 ]]\n",
      "Avg. fitness of each genotype (group):\n",
      "[[0.37518777]\n",
      " [0.4979373 ]\n",
      " [0.5163539 ]\n",
      " [0.48095061]]\n"
     ]
    }
   ],
   "source": [
    "#choose preferred epistasis version (em1: with repetition, em2: without)\n",
    "em = em2_inc\n",
    "\n",
    "#Calculate fitness components fi based on relevant coefficients and coordinates\n",
    "def calculate_fitness(coefficients, epistasis, genomes):\n",
    "    fit_val = np.zeros((M, N))\n",
    "\n",
    "    for group in range(M):\n",
    "        genome = genomes[group]\n",
    "\n",
    "        for gene in range(N):\n",
    "            result = 0  # Initialize with 0\n",
    "\n",
    "            for j in range(coefficients.shape[1]): #summation & multiplication,bitwise \n",
    "                contribution = coefficients[gene, j] * genome[gene] ** (1 & j)\n",
    "\n",
    "                for k in range(epistasis.shape[1]): \n",
    "                    epi_index = epistasis[gene, k]\n",
    "                    epi_value = genome[epi_index]\n",
    "                    product_term = epi_value ** ((2**k & j) / 2**k)\n",
    "                    contribution *= product_term\n",
    "                result += contribution\n",
    "                ##aaah eindelijk?!\n",
    "            fit_val[group, gene] = result\n",
    "\n",
    "    return fit_val\n",
    "\n",
    "fitness = calculate_fitness(a_shape, em, coords)\n",
    "#M groups&avg genomes so M rows, N genes so N cols with fitness components Fi-\n",
    "print(\"Fitness components:\")\n",
    "print(fitness)\n",
    "\n",
    "#print fitness of avg. genome\n",
    "fit = np.mean(fitness, axis=1,)\n",
    "final = fit.reshape(-1, 1)\n",
    "print(\"Avg. fitness of each genotype (group):\")\n",
    "print(final)\n",
    "\n",
    "\n"
   ]
  },
  {
   "cell_type": "code",
   "execution_count": null,
   "metadata": {},
   "outputs": [],
   "source": []
  }
 ],
 "metadata": {
  "kernelspec": {
   "display_name": "Python 3",
   "language": "python",
   "name": "python3"
  },
  "language_info": {
   "codemirror_mode": {
    "name": "ipython",
    "version": 3
   },
   "file_extension": ".py",
   "mimetype": "text/x-python",
   "name": "python",
   "nbconvert_exporter": "python",
   "pygments_lexer": "ipython3",
   "version": "3.11.5"
  }
 },
 "nbformat": 4,
 "nbformat_minor": 2
}
