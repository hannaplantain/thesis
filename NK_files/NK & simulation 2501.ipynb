{
 "cells": [
  {
   "cell_type": "markdown",
   "metadata": {},
   "source": [
    "## NK Model"
   ]
  },
  {
   "cell_type": "markdown",
   "metadata": {},
   "source": [
    "### Introduction"
   ]
  },
  {
   "cell_type": "markdown",
   "metadata": {},
   "source": [
    "This notebook (...)."
   ]
  },
  {
   "cell_type": "markdown",
   "metadata": {},
   "source": [
    "### Parameters and settings\n"
   ]
  },
  {
   "cell_type": "markdown",
   "metadata": {},
   "source": [
    "All parameter settings and modeling choices go in this section."
   ]
  },
  {
   "cell_type": "code",
   "execution_count": 22,
   "metadata": {},
   "outputs": [],
   "source": [
    "# MODEL PARAMETERS\n",
    "N = 4 # length of each genome\n",
    "K_i = 2 # ruggedness parameter of the NK model for individual fitness\n",
    "K_g = K_i # ruggedness parameter of the NK model for groups\n",
    "G = 5 # number of groups\n",
    "I = 100 # maximum number of individuals per group\n",
    "\n",
    "init_I = 10 # intial total number of individuals \n",
    "alpha = 1/10 # generation time of groups relative to that of individuals \n",
    "t_end = 1000 # duration of simulation\n",
    "\n",
    "# NEUTRALIY\n",
    "\"\"\"\n",
    "choose \"NK\" for regular NK, \n",
    "\"NKp\" for probabilistic NK, \n",
    "\"NKq\" for quantised NK\n",
    "\"\"\"\n",
    "neutrality_i = [\"NK\"] \n",
    "neutrality_g = [\"NK\"] \n",
    "p_i = 0.5 # p of NKp for individual-level fitness\n",
    "p_g = p_i # p of NKp for group-level fitness\n",
    "q_i = 4 # q of NKq for individual-level fitness\n",
    "q_g = q_i # q of NKq for group-level fitness\n",
    "\n",
    "# NETWORK PROPERTIES\n",
    "\"\"\"\n",
    "choose \"r\" for sampling with replacement, \n",
    "\"nr\" for without replacement, \n",
    "\"block\" for blockwise interactions\n",
    "\"\"\"\n",
    "network_i = [\"r\"]\n",
    "network_g = [\"r\"]\n",
    "\n",
    "# GROUPING SYSTEM\n",
    "\"\"\"\n",
    "choose \"equal\" for equal initial group sizes, \n",
    "\"random\" for random distribution of individuals amongst groups \n",
    "\"\"\"\n",
    "grouping = [\"equal\"] \n",
    "# SIMULATION PARAMETERS\n",
    "my_seed = 10 # random seed\n",
    "t_end = 1000 # end time, in units of individual generation times."
   ]
  },
  {
   "cell_type": "markdown",
   "metadata": {},
   "source": [
    "### Packages"
   ]
  },
  {
   "cell_type": "code",
   "execution_count": 23,
   "metadata": {},
   "outputs": [],
   "source": [
    "#import necessary packages\n",
    "import numpy as np\n",
    "import random as rd\n",
    "from numpy.random import choice \n",
    "import matplotlib.pyplot as plot\n",
    "from mpl_toolkits.mplot3d import Axes3D\n",
    "from sklearn.linear_model import LinearRegression\n",
    "\n",
    "#set style for all plots\n",
    "plot.style.use(\"seaborn-v0_8-colorblind\")"
   ]
  },
  {
   "cell_type": "markdown",
   "metadata": {},
   "source": [
    "### Shorthands"
   ]
  },
  {
   "cell_type": "markdown",
   "metadata": {},
   "source": [
    "Calculate shorthands that will be used throughout the simulation."
   ]
  },
  {
   "cell_type": "code",
   "execution_count": 24,
   "metadata": {},
   "outputs": [],
   "source": [
    "B_i = 2**(K_i + 1) # number of hypercube corners for the fitness contributions of each gene\n",
    "# (= columns in fitness matrix) at the individual level \n",
    "B_g = 2**(K_g + 1) # number of hypercube corners for the fitness contributions of each gene\n",
    "# (= columns in fitness matrix) at the group level"
   ]
  },
  {
   "cell_type": "markdown",
   "metadata": {},
   "source": [
    "### Global variables"
   ]
  },
  {
   "cell_type": "markdown",
   "metadata": {},
   "source": [
    "Define and create global variables that will be used thoughout the simulation."
   ]
  },
  {
   "cell_type": "code",
   "execution_count": 25,
   "metadata": {},
   "outputs": [],
   "source": [
    "# fitness matrix\n",
    "fm_i = np.zeros((N, B_i)) # invullen: lege array N x B_j\n",
    "fm_g = np.zeros((N, B_g)) # invullen: lege arry N x B_g\n",
    "\n",
    "# epistasis matrices\n",
    "val = list(range(0, N))\n",
    "\n",
    "# (initial) genomes/coordinates individual and group level\n",
    "ind_genomes = np.random.randint(0, 2, size = (I, N)) #randomly generates binary genomes for all individuals \n",
    "##ind_genomes_gr = #individuals grouped, not sure yet what smartest way is\n",
    "#gr_genomes = np.mean(ind_genomes_gr, axis=0,) #takes avg of each column to generate group genome - exact method depends on grouping method\n",
    "gr_genomes = np.random.rand(G, N) #randomly generates coordinates within hypercube for all individuals - replace by line above\n",
    "\n",
    "# fitness values\n",
    "#f_i = # absolute fitness individual level\n",
    "f_i_comp = np.random.rand(I, N) #randomly generates fitness contributions associated with gene values of all individuals\n",
    "f_i = np.mean(f_i_comp, axis=1,) #absolute fitness of all individuals (=avg by row of f_i_comp)\n",
    "f_i = f_i.reshape(-1, 1) \n",
    "#f_g = # absolute fitness group level\n",
    "\n",
    "#w_i = # relative fitness individual level\n",
    "\n",
    "#w_g = # relative fitness group level"
   ]
  },
  {
   "cell_type": "markdown",
   "metadata": {},
   "source": [
    "### Function definitions"
   ]
  },
  {
   "cell_type": "markdown",
   "metadata": {},
   "source": [
    "#### ... for constructing epistasis matrix without repetition"
   ]
  },
  {
   "cell_type": "code",
   "execution_count": 26,
   "metadata": {},
   "outputs": [],
   "source": [
    "#functions to create epistasis matrices without repeats\n",
    "def generate_all_perm_tree(level, nums): \n",
    "    \"\"\"\n",
    "    makes tree structure with all possible permutations of given 'nums',\n",
    "    where each number is allowed to move to next position in permutation, excluding repeats\n",
    "    - level: Current level in the permutation.\n",
    "    - nums (list): list of numbers to permute.\n",
    "    returns:\n",
    "    - dict: nested dictionary representing the permutation tree structure.\n",
    "        Each key is a number, and corresponding value is the subtree for the next level.\n",
    "    \"\"\"\n",
    "    if len(nums) == 1:\n",
    "        if level == nums[0]:\n",
    "            return None\n",
    "        else:\n",
    "            return {nums[0]: {}}\n",
    "    allowed_number = list(nums)\n",
    "    if level in allowed_number:\n",
    "        allowed_number.remove(level)\n",
    "    result = {}\n",
    "    for number in allowed_number:\n",
    "        sublevel_number = list(nums)\n",
    "        if number in sublevel_number:\n",
    "            sublevel_number.remove(number)\n",
    "        subtree = generate_all_perm_tree(level + 1, sublevel_number)\n",
    "        if subtree is not None:\n",
    "            result[number] = subtree\n",
    "    if len(result) == 0:\n",
    "        return None\n",
    "    return result\n",
    "\n",
    "def pick_all_moved_perm(all_moved_perm_tree, picked=None):#picks permutation of numbers from previously generated tree, with each number selected only once\n",
    "    \"\"\"\n",
    "    Picks permutation of numbers from previously generated tree, with each number selected only once\n",
    "    - all_moved_perm_tree (dictionary): The permutation tree generated by generate_all_perm_tree\n",
    "    - picked: set of numbers already picked.\n",
    "    Return:\n",
    "    - list: representing a permutation of numbers\n",
    "    \"\"\"\n",
    "    if picked is None:\n",
    "        picked = set()\n",
    "    allowed_num_set = set(all_moved_perm_tree.keys()) - picked\n",
    "    if not allowed_num_set:\n",
    "        return []\n",
    "    number = rd.choice(list(allowed_num_set))\n",
    "    picked.add(number)\n",
    "    l = [number]\n",
    "    sub_tree = all_moved_perm_tree[number]\n",
    "    if len(sub_tree) > 0:\n",
    "        l.extend(pick_all_moved_perm(sub_tree, picked))\n",
    "    return l\n",
    "\n",
    "def generate_unique_r(tree, num_rows): \n",
    "    \"\"\"\n",
    "    Generates an array of unique pairs of numbers, with no number repeated in a row\n",
    "    - tree (dict):the permutation tree generated by generate_all_moved_perm_tree.\n",
    "    - num_rows: the number of rows to generate.\n",
    "    Returns:\n",
    "    - 2d array representing unique pairs of numbers in each row\n",
    "    \"\"\"\n",
    "    result = []\n",
    "    for _ in range(num_rows):\n",
    "        row = list(zip(pick_all_moved_perm(tree), pick_all_moved_perm(tree)))\n",
    "        while any(x[0] == x[1] for x in row):\n",
    "            row = list(zip(pick_all_moved_perm(tree), pick_all_moved_perm(tree)))\n",
    "        result.extend(row)\n",
    "    return np.array(result[:num_rows])"
   ]
  },
  {
   "cell_type": "markdown",
   "metadata": {},
   "source": [
    "#### ... for choosing preferred epistasis"
   ]
  },
  {
   "cell_type": "code",
   "execution_count": 27,
   "metadata": {},
   "outputs": [],
   "source": [
    "def create_epistasis_matrix_i(): #epistasis matrix individual level\n",
    "    em_i = []\n",
    "    match network_i:\n",
    "        case [\"r\"]:\n",
    "            for row in range(N):\n",
    "                val = list(range(0, N))\n",
    "                gene_pair = rd.sample(val[:row] + val[row + 1:], K_i)  \n",
    "                em_i.append([row] + gene_pair)\n",
    "            em_i = np.array(em_i)  #first with own gene referenced\n",
    "            em_i = em_i[:, 1:] #without own gene referenced #remove this row or above\n",
    "        case [\"nr\"]:\n",
    "            tree = generate_all_perm_tree(1, range(1, N+1))\n",
    "            em_i = generate_unique_r(tree, N)\n",
    "        #case [\"block\"]:\n",
    "           # em = #working on it :)\n",
    "    return em_i\n",
    "\n",
    "def create_epistasis_matrix_g():\n",
    "    em_g = []\n",
    "    match network_g:\n",
    "        case [\"r\"]:\n",
    "            val = list(range(N))\n",
    "            for row in range(N):\n",
    "                gene_pair = rd.sample(val[:row] + val[row + 1:], K_g)  # Select K_g unique genes \n",
    "                em_g.append([row] + gene_pair)  # Row number added to the beginning\n",
    "            em_g = np.array(em_g)  # First with own gene referenced\n",
    "            em_g = em_g[:, 1:]\n",
    "        case [\"nr\"]:\n",
    "            tree = generate_all_perm_tree(1, range(1, N+1))\n",
    "            em_g = generate_unique_r(tree, N)\n",
    "        # case [\"block\"]:\n",
    "        #    em = # working on it :)\n",
    "    return em_g"
   ]
  },
  {
   "cell_type": "markdown",
   "metadata": {},
   "source": [
    "#### ... for constructing fitness landscapes"
   ]
  },
  {
   "cell_type": "code",
   "execution_count": 28,
   "metadata": {},
   "outputs": [],
   "source": [
    "def create_fitness_matrix_i():\n",
    "    fm_i = np.random.rand(N, B_i)\n",
    "    match neutrality_i:\n",
    "        case [\"NK\"]:\n",
    "            #\n",
    "            pass\n",
    "        case [\"NKp\"]:\n",
    "            fm_i = np.where(np.random.rand(*fm_i.shape) < p_i, 0, fm_i) \n",
    "        case [\"NKq\"]:\n",
    "            fm_i = np.digitize(fm_i, bins=np.linspace(0, 1, q_i+1), right=True) - 1\n",
    "    return fm_i\n",
    "\n",
    "def create_fitness_matrix_g():\n",
    "    fm_g = np.random.rand(N, B_g)\n",
    "    match neutrality_g:\n",
    "        case [\"NK\"]:\n",
    "            #\n",
    "            pass\n",
    "        case [\"NKp\"]:\n",
    "            fm_g = np.where(np.random.rand(*fm_g.shape) < p_g, 0, fm_g) \n",
    "        case [\"NKq\"]:\n",
    "            fm_g = np.digitize(fm_g, bins=np.linspace(0, 1, q_g+1), right=True) - 1\n",
    "    return fm_g"
   ]
  },
  {
   "cell_type": "markdown",
   "metadata": {},
   "source": [
    "#### ... for calculating coefficients (ai0 to aij)"
   ]
  },
  {
   "cell_type": "code",
   "execution_count": 29,
   "metadata": {},
   "outputs": [],
   "source": [
    "def calc_a(fitness_matrix): #other functions split by ind/group but not this one. Do or not? think\n",
    "    \"\"\"\n",
    "    calculate and return coefficients based on fitness matrix \n",
    "    - B: B_g or B_i: number of binary gene combinations = corners hypercube\n",
    "    - fm (array): fm_g or fm_i - fitness matrix individuals or groups\n",
    "    Returns:\n",
    "    - List containing 'a' coefficients for each row of the input matrix\n",
    "    \"\"\"\n",
    "    a_coefficients = []\n",
    "    for r in fitness_matrix:\n",
    "        a = [0.0] * B_g  # initialises list with zeros as floats for each row & X cols\n",
    "        a[0] = r[0] #set ai0 to Fi0 \n",
    "        for j in range(1, B_g): \n",
    "            sum = 0.0 \n",
    "            # Calculate next coefs based only on previously calculated coefs\n",
    "            for l in range(0, j): \n",
    "                #check if l equal to bitwise AND of l and j \n",
    "                #(ex: 001&101->001 TRUE; 001&100->000 FALSE)\n",
    "                if l == (l & j): \n",
    "                    sum += a[l] \n",
    "            a[j] = r[j] - sum \n",
    "        a_coefficients.append(a) # append new a's into result array\n",
    "    return a_coefficients"
   ]
  },
  {
   "cell_type": "markdown",
   "metadata": {},
   "source": [
    "#### ... for calculating fitness values"
   ]
  },
  {
   "cell_type": "code",
   "execution_count": 30,
   "metadata": {},
   "outputs": [],
   "source": [
    "def gene_fitness(coefficients, epistasis, genome, gene):\n",
    "    \"\"\"\n",
    "    Calculate the fitness component of a specific gene in a genome\n",
    "    - coefficients (array): coefficient matrix as calculated by calc_a\n",
    "    - epistasis (\"): Epistasis matrix representing interactions between genes\n",
    "    - genome (\"): genome values\n",
    "    - gene (int): index of specific gene for which fitness component is calculated\n",
    "    Returns:\n",
    "    - fitness component of the specified gene in the genome (float)\n",
    "    \"\"\"\n",
    "    result = 0\n",
    "\n",
    "    for j in range(coefficients.shape[1]):\n",
    "        contribution = coefficients[gene, j] * (genome[gene] ** (1 & j))\n",
    "        for k in range(epistasis.shape[1]):\n",
    "            epi_index = epistasis[gene, k]\n",
    "            epi_value = genome[epi_index]\n",
    "            product_term = epi_value ** ((2**(k+1) & j) / 2**(k+1))\n",
    "            contribution *= product_term\n",
    "\n",
    "        result += contribution\n",
    "    return result\n",
    "\n",
    "def genome_fitness(coefficients, epistasis, genome):\n",
    "    \"\"\"\n",
    "    Calculate fitness components for all genes within a genome \n",
    "    return:\n",
    "    array containing fitness components for each gene in the genome\n",
    "    \"\"\"\n",
    "    fit_vals = np.zeros(len(genome))\n",
    "\n",
    "    for gene in range(len(genome)):\n",
    "        fit_vals[gene] = gene_fitness(coefficients, epistasis, genome, gene)\n",
    "    return fit_vals\n",
    "\n",
    "def calculate_fitness(coefficients, epistasis, genomes, num_genomes):\n",
    "    \"\"\"\n",
    "    Calculate the fitness components for all genes in all genomes\n",
    "    Return:\n",
    "    2D array containing fitness components for each gene (cols) in each genome (rows)\n",
    "    \"\"\"\n",
    "    fit_val = np.zeros((num_genomes, N))\n",
    "\n",
    "    for group in range(num_genomes):\n",
    "        fit_val[group, :] = genome_fitness(coefficients, epistasis, genomes[group])\n",
    "    return fit_val\n"
   ]
  },
  {
   "cell_type": "markdown",
   "metadata": {},
   "source": [
    "#### ... for running simulations"
   ]
  },
  {
   "cell_type": "code",
   "execution_count": 102,
   "metadata": {},
   "outputs": [],
   "source": [
    "#individual genomes (initial only)\n",
    "def ind_genomes(Ind): #include mutation in here if using?\n",
    "    \"\"\"\n",
    "    Randomly generates binary genomes of length (N) for all individuals (I)\n",
    "    Return: \n",
    "    2D array containing rows with genomes for all individuals\n",
    "    \"\"\"\n",
    "    genomes = np.zeros((Ind, N))\n",
    "    for individual in range(Ind):\n",
    "        genomes[individual, :] = np.random.randint(0, 2, size = (N)) \n",
    "    return genomes  \n",
    "\n",
    "#initial group membership\n",
    "def choose_grouping(): \n",
    "    gr_index = []\n",
    "    match grouping:\n",
    "        case [\"equal\"]:\n",
    "            repetitions = init_I // G\n",
    "            remainder = init_I % G\n",
    "            gr_index = np.repeat(np.arange(1, G+1), repetitions)\n",
    "\n",
    "            if remainder > 0:\n",
    "                extra_elements = np.random.choice(np.arange(1, G+1), remainder, replace=False)\n",
    "                gr_index = np.concatenate([gr_index, extra_elements])\n",
    "            np.random.shuffle(gr_index)\n",
    "            gr_index = gr_index.reshape((init_I, 1))\n",
    "\n",
    "        case [\"random\"]:\n",
    "            gr_index = np.random.randint(1, G+1, size = (init_I, 1)) \n",
    "    return gr_index\n",
    "\n",
    "#group genomes (initial only)\n",
    "def gr_genomes(individual_genomes, group_membership):\n",
    "    \"\"\"\n",
    "    Calculates average genome per group for use in continuous NK calc\n",
    "    -ind_genomes (2d array): contains binary genome in each row for all individuals\n",
    "    -group_membership (2d array): index that assigns each individual to a group indexed 1 to G\n",
    "    Return: \n",
    "    2D array containing rows with genomes containing continuous gene values per gene for all groups\n",
    "    \"\"\"\n",
    "    unique_gr_indices = np.unique(group_membership)\n",
    "    group_genomes = np.zeros((len(unique_gr_indices), individual_genomes.shape[1]))\n",
    "\n",
    "    for i, index in enumerate(unique_gr_indices):\n",
    "        group_indices = np.where(group_membership == index)[0]\n",
    "        if len(group_indices) > 0:\n",
    "            group_values = individual_genomes[group_indices]\n",
    "            group_genomes[i] = np.mean(group_values, axis=0)\n",
    "        else:\n",
    "            #if group is empty (no ind assigned to it), assign random member other group (right way to handle this?,\n",
    "            #and could be done in group_membership outside of function?)\n",
    "            random_member = np.random.choice(len(individual_genomes))\n",
    "            group_genomes[i] = individual_genomes[random_member]\n",
    "\n",
    "    return group_genomes\n",
    "\n",
    "#def update_rates(): \n",
    "def update_ind_rates(absolute_ind_fitness, group_membership):\n",
    "    \"\"\"\n",
    "    Calculates new event rates (= relative fitnesses) for individual reproduction \n",
    "    -absolute_fitnesses (2d array) = result of individual fitness function (fit_ind)\n",
    "    -group_membership (2d array): index that assigns each individual to a group indexed 1 to G\n",
    "    Return:\n",
    "    array containing rates of reproduction for all individuals \n",
    "    \"\"\"\n",
    "    ind_rates = []\n",
    "    index_set = set(group_membership.flatten())\n",
    "    f_j = [np.mean(absolute_ind_fitness[group_membership==k]) for k in index_set]\n",
    "    ind_rates = absolute_ind_fitness.flatten() / np.array([f_j[k-1] for k in group_membership.flatten()])\n",
    "    ind_rates = ind_rates.reshape(-1, 1) \n",
    "\n",
    "    return ind_rates\n",
    "\n",
    "def update_gr_rates(absolute_gr_fitness):\n",
    "    \"\"\"\n",
    "    Calculates new event rates for group reproduction \n",
    "    -absolute_gr_fitness (2d array) = result of group fitness function (fit_ind)\n",
    "    array containing rates of reproduction for all individuals \n",
    "    \"\"\"\n",
    "    F = np.mean(absolute_gr_fitness)\n",
    "    W = absolute_gr_fitness / F\n",
    "    gr_rates = alpha * W\n",
    "\n",
    "    return gr_rates\n",
    "\n",
    "def update_rates(absolute_ind_fitness, group_membership, absolute_gr_fitness): #could combine update_ind_rates, update_gr_rates, update_rates into one \n",
    "    \"\"\"\n",
    "    Combines individual and group rates into one array and adds ind/group event, and indexing by event type\n",
    "    Return:\n",
    "    2D array (total number of events, 3): event rates, individual/group 0/1, index of ind or group\n",
    "    \"\"\"\n",
    "    ind_rates = update_ind_rates(absolute_ind_fitness, group_membership)\n",
    "    individual = np.zeros_like(ind_rates) #individuals indicated by 0\n",
    "    ind_index = np.arange(ind_rates.shape[0]).reshape(-1, 1) #index of which individual added\n",
    "    ind_rates = np.column_stack((ind_rates, individual, ind_index)) \n",
    "\n",
    "    group_rates = update_gr_rates(absolute_gr_fitness)\n",
    "    group = np.ones_like(group_rates) #groups indicated by 1\n",
    "    group_index = np.arange(group_rates.shape[0]).reshape(-1, 1) #index of which group added\n",
    "    group_rates = np.column_stack((group_rates, group, group_index)) \n",
    "\n",
    "    rates = np.vstack((ind_rates, group_rates))\n",
    "\n",
    "    return rates\n",
    "\n",
    "#still need to build in that group can only be selected when it contains specified number of inds, probably into gr_rates by only including rates of \"available\" groups\n",
    "def choose_event(rates): \n",
    "    \"\"\"\n",
    "    -rates: 2D array (total number of events, 3): event rates, individual/group 0/1, index of ind or group\n",
    "    Return:\n",
    "    integer: index of selected event\n",
    "    \"\"\"\n",
    "    rates_vals = rates[:, 0]\n",
    "    event_index = np.arange(rates.shape[0])\n",
    "    probs = rates_vals/sum(rates_vals)\n",
    "    event_drawn = choice(event_index, 1, p=probs) #randomly selects event base on individual probabilities of each event\n",
    "\n",
    "    return event_drawn\n",
    "\n",
    "def individual_reproduction(event_drawn, rates, ind_genomes, group_membership): \n",
    "    \"\"\"\n",
    "    -event_drawn: index of selected event\n",
    "    -rates: 2D array (total number of events, 3): event rates, individual/group 0/1, index of ind/inds or group/groups\n",
    "    -ind_genomes: current individual genomes\n",
    "    -group membership: index that assigns each individual to a group indexed 1 to G\n",
    "    Return:\n",
    "    -2D array (current total number of individuals, 2), with individual genomes and group membership in cols?\n",
    "    \"\"\"\n",
    "\n",
    "#def group_splitting(): \n",
    "\n",
    "#def execute_reaction(event_drawn):\n",
    "    #if event_drawn is individual -> individual_reproduction \n",
    "    #if event_drawn is group -> group_splitting \n",
    "    #do it so new fitness (and rate) calculation is only done for new individual/changed group or for the two new groups? "
   ]
  },
  {
   "cell_type": "markdown",
   "metadata": {},
   "source": [
    "### Tests"
   ]
  },
  {
   "cell_type": "code",
   "execution_count": 32,
   "metadata": {},
   "outputs": [
    {
     "name": "stdout",
     "output_type": "stream",
     "text": [
      "[[1 2]\n",
      " [0 2]\n",
      " [0 1]\n",
      " [1 2]]\n",
      "[[0.         0.         0.         0.        ]\n",
      " [0.         0.         0.         0.11111111]\n",
      " [0.         0.         0.         0.22222222]\n",
      " [0.         0.         0.         0.33333333]\n",
      " [0.         0.         0.         0.44444444]\n",
      " [0.         0.         0.         0.55555556]\n",
      " [0.         0.         0.         0.66666667]\n",
      " [0.         0.         0.         0.77777778]\n",
      " [0.         0.         0.         0.88888889]\n",
      " [0.         0.         0.         1.        ]]\n"
     ]
    }
   ],
   "source": [
    "#parameters for testing multilinearity\n",
    "ind = 1 #pick specific group based on group id \n",
    "I = 10 #number of iterations\n",
    "varying_gene_vals = np.linspace(0, 1, 10)\n",
    "constant_gene_vals = gr_genomes[ind-1, 1:]\n",
    "var_gr_genome = np.column_stack([varying_gene_vals, np.tile(constant_gene_vals, (10, 1))]) #result is array of shape (10, N), with new values in first column and constant gr_genomes in other columns\n",
    "fm_var = create_fitness_matrix_g()\n",
    "coef_var = calc_a(fm_var)\n",
    "a_shape = np.reshape(coef_var, (N, B_g))\n",
    "coef_var = np.array(a_shape)\n",
    "em_g_var = create_epistasis_matrix_g()\n",
    "print(em_g_var)\n",
    "#a_rep = np.tile(coef_var[ind-1], (100, 1)) #Create new array for a_shape with values selected genome repeated 100 times\n",
    "#varying from 0,0,0,0 to 1,0,0,0\n",
    "zero = np.zeros((1, N-1))\n",
    "#var_gr_zero = np.column_stack([varying_gene_vals, np.tile(zero, (10, 1))])\n",
    "var_gr_zero = np.column_stack([np.tile(zero, (10, 1)), varying_gene_vals])\n",
    "print(var_gr_zero)"
   ]
  },
  {
   "cell_type": "code",
   "execution_count": 33,
   "metadata": {},
   "outputs": [],
   "source": [
    "fit_var = calculate_fitness(coef_var, em_g_var, var_gr_zero, 10) #fitness components\n",
    "avg_fit_var = np.mean(fit_var, axis=1) #average fitness\n",
    "avg_fit_var = avg_fit_var.reshape(-1, 1)\n",
    "#Binary representation of im \n",
    "im0 = np.arange(0, B_g, 1)\n",
    "im1 = im0[np.newaxis, :]\n",
    "im = np.repeat(im1, N, axis=0)\n",
    "imbin = np.vectorize(np.binary_repr)(im, 3)"
   ]
  },
  {
   "cell_type": "code",
   "execution_count": 34,
   "metadata": {},
   "outputs": [
    {
     "data": {
      "image/png": "[encoded data removed]",
      "text/plain": [
       "<Figure size 640x480 with 1 Axes>"
      ]
     },
     "metadata": {},
     "output_type": "display_data"
    }
   ],
   "source": [
    "#visualisation for multilinearity test\n",
    "for i in range(fit_var.shape[1]):\n",
    "    plot.plot(np.array(range(len(fit_var))) / 100, fit_var[:, i], label=f'Fitness Component {i + 1}')\n",
    "\n",
    "# Plot average fitness as a dotted line\n",
    "plot.plot(np.array(range(len(fit_var))) / 100, avg_fit_var, color='k', linestyle='dotted', label='Average Fitness')\n",
    "\n",
    "plot.xlabel('4th coordinate/gene value')\n",
    "plot.ylabel('Fitness')\n",
    "plot.title('Varying 4th coordinate from 0 to 1')\n",
    "plot.legend()\n",
    "plot.show() #all fitness components should change linearly"
   ]
  },
  {
   "cell_type": "code",
   "execution_count": 35,
   "metadata": {},
   "outputs": [],
   "source": [
    "#maybe do later: varying two coords\n",
    "#num_points = 100 \n",
    "#x1_values = np.linspace(0, 1, num_points)\n",
    "#x2_values = np.linspace(0, 1, num_points)\n",
    "#meshgrid from x1 and x2 values\n",
    "#x1, x2 = np.meshgrid(x1_values, x2_values)\n",
    "#x3 = \n",
    "#grid_coords = np.column_stack([x1.flatten(), x2.flatten(), np.full_like(x1.flatten(), x3)])\n"
   ]
  },
  {
   "cell_type": "markdown",
   "metadata": {},
   "source": [
    "## The simulation"
   ]
  },
  {
   "cell_type": "code",
   "execution_count": 36,
   "metadata": {},
   "outputs": [],
   "source": [
    "# INITIALISATION\n",
    "rd.seed(my_seed) # set random seed\n",
    "\n",
    "# CONSTRUCT FITNESS LANDSCAPES \n",
    "fm_i = create_fitness_matrix_i()\n",
    "fm_g = create_fitness_matrix_g()\n",
    "# Construct epistasis matrices\n",
    "em_i = create_epistasis_matrix_i()\n",
    "em_g = create_epistasis_matrix_i()\n",
    "#coefficients\n",
    "coef_i = np.array(calc_a(fm_i))\n",
    "coef_g = np.array(calc_a(fm_g))\n",
    "#grouping\n",
    "init_gr_index = choose_grouping()\n",
    "\n",
    "# INIITIALIZE\n",
    "init_ind_genomes = ind_genomes(init_I) #initial individual genomes \n",
    "fit_ind_gene = calculate_fitness(coef_i, em_i, ind_genomes, init_I) #fitness components\n",
    "fit_ind = np.mean(fit_ind_gene, axis=1) #average fitness\n",
    "fit_ind = fit_ind.reshape(-1, 1)\n",
    "\n",
    "init_gr_genomes = gr_genomes(init_ind_genomes, init_gr_index) #initial group genomes\n",
    "fit_gr_gene = calculate_fitness(coef_g, em_g, init_gr_genomes, G) #fitness components\n",
    "fit_gr = np.mean(fit_gr_gene, axis=1) #average fitness\n",
    "fit_gr = fit_gr.reshape(-1, 1)\n",
    "\n",
    "t = 0"
   ]
  },
  {
   "cell_type": "code",
   "execution_count": 104,
   "metadata": {},
   "outputs": [
    {
     "ename": "TypeError",
     "evalue": "update_rates() missing 3 required positional arguments: 'absolute_ind_fitness', 'group_membership', and 'absolute_gr_fitness'",
     "output_type": "error",
     "traceback": [
      "\u001b[1;31m---------------------------------------------------------------------------\u001b[0m",
      "\u001b[1;31mTypeError\u001b[0m                                 Traceback (most recent call last)",
      "Cell \u001b[1;32mIn[104], line 3\u001b[0m\n\u001b[0;32m      1\u001b[0m \u001b[38;5;66;03m# RUN SIMULATIONS\u001b[39;00m\n\u001b[0;32m      2\u001b[0m \u001b[38;5;28;01mwhile\u001b[39;00m t \u001b[38;5;241m<\u001b[39m t_end :\n\u001b[1;32m----> 3\u001b[0m     rates \u001b[38;5;241m=\u001b[39m update_rates()\n\u001b[0;32m      4\u001b[0m     propensity \u001b[38;5;241m=\u001b[39m \u001b[38;5;28msum\u001b[39m(rates)\n\u001b[0;32m      5\u001b[0m     tau \u001b[38;5;241m=\u001b[39m np\u001b[38;5;241m.\u001b[39mrandom\u001b[38;5;241m.\u001b[39mexponential(scale\u001b[38;5;241m=\u001b[39m\u001b[38;5;241m1\u001b[39m \u001b[38;5;241m/\u001b[39m propensity) \u001b[38;5;66;03m# waiting time for next reaction\u001b[39;00m\n",
      "\u001b[1;31mTypeError\u001b[0m: update_rates() missing 3 required positional arguments: 'absolute_ind_fitness', 'group_membership', and 'absolute_gr_fitness'"
     ]
    }
   ],
   "source": [
    "# RUN SIMULATIONS\n",
    "while t < t_end :\n",
    "    rates = update_rates()\n",
    "    propensity = sum(rates)\n",
    "    tau = np.random.exponential(scale=1 / propensity) # waiting time for next reaction\n",
    "    t = t + tau\n",
    "    event = choose_event(rates)\n",
    "    execute_reaction(event)\n"
   ]
  },
  {
   "cell_type": "markdown",
   "metadata": {},
   "source": [
    "## Results"
   ]
  }
 ],
 "metadata": {
  "kernelspec": {
   "display_name": "base",
   "language": "python",
   "name": "python3"
  },
  "language_info": {
   "codemirror_mode": {
    "name": "ipython",
    "version": 3
   },
   "file_extension": ".py",
   "mimetype": "text/x-python",
   "name": "python",
   "nbconvert_exporter": "python",
   "pygments_lexer": "ipython3",
   "version": "3.11.5"
  }
 },
 "nbformat": 4,
 "nbformat_minor": 2
}
