{
 "cells": [
  {
   "cell_type": "markdown",
   "metadata": {},
   "source": [
    "## NK babymodel"
   ]
  },
  {
   "cell_type": "markdown",
   "metadata": {},
   "source": [
    "prep"
   ]
  },
  {
   "cell_type": "code",
   "execution_count": 61,
   "metadata": {},
   "outputs": [],
   "source": [
    "import numpy as np\n",
    "#set values of N and K \n",
    "N = 3\n",
    "K = 2\n",
    "X = 2**(K+1) #total fitness contributions per gene (= columns in fitness matrix)"
   ]
  },
  {
   "cell_type": "code",
   "execution_count": 62,
   "metadata": {},
   "outputs": [
    {
     "name": "stdout",
     "output_type": "stream",
     "text": [
      "[[0.35766056 0.42233048 0.80771918 0.57064558 0.73051962 0.81299381\n",
      "  0.70178668 0.41722454]\n",
      " [0.78462878 0.57482766 0.6888076  0.01950096 0.1231499  0.654846\n",
      "  0.33592747 0.36180345]\n",
      " [0.85527683 0.47450433 0.21903003 0.24826305 0.78098654 0.22503397\n",
      "  0.06828069 0.77461027]]\n"
     ]
    }
   ],
   "source": [
    "#create fitness matrix: np.array of shape (N,X), filled with random decimals \n",
    "fm = np.random.rand(N, X)\n",
    "print(fm)"
   ]
  },
  {
   "cell_type": "markdown",
   "metadata": {},
   "source": [
    "function to calculate coefficients ai0 to aij"
   ]
  },
  {
   "cell_type": "code",
   "execution_count": 63,
   "metadata": {},
   "outputs": [
    {
     "name": "stdout",
     "output_type": "stream",
     "text": [
      "Fitness matrix\n",
      "[[ 0.35766056  0.06466992  0.45005862 -0.30174352  0.37285906  0.01780427\n",
      "  -0.47879156 -0.06529281]\n",
      " [ 0.78462878 -0.20980113 -0.09582118 -0.45950551 -0.66147888  0.74149722\n",
      "   0.30859875 -0.04631461]\n",
      " [ 0.85527683 -0.3807725  -0.6362468   0.41000552 -0.07429029 -0.17518007\n",
      "  -0.07645905  0.85227664]]\n"
     ]
    }
   ],
   "source": [
    "def calc_a(K, fm):\n",
    "    a_coef = []\n",
    "    #explain for loop\n",
    "    for r in fm:\n",
    "        a = [0.0] * X  # creates list with zeros as floats for each row & X cols\n",
    "        \n",
    "        # Calculate ai0 for i = 0\n",
    "        a[0] = r[0] #because ai0=Fi0\n",
    "        \n",
    "        for j in range(1, X): \n",
    "            sum = 0.0 \n",
    "            for l in range(0, j): #only already calculated coeff\n",
    "                if l == (l & j): #if l equal to bitwise AND of l and j (001&101->TRUE, 001&100->FALSE)\n",
    "                    sum += a[l] \n",
    "            a[j] = r[j] - sum \n",
    "        a_coef.append(a) # append new a's into a_values array\n",
    "        \n",
    "    return a_coef\n",
    "\n",
    "a_coef = calc_a(K, fm)\n",
    "\n",
    "a_shape = np.reshape(a_coef, (N,X))\n",
    "print(\"Fitness matrix\")\n",
    "print(a_shape) #all coefficients in same shape as fm1\n"
   ]
  },
  {
   "cell_type": "code",
   "execution_count": 58,
   "metadata": {},
   "outputs": [
    {
     "name": "stdout",
     "output_type": "stream",
     "text": [
      "identity matrix (maybe useful for vis)\n",
      "[['0000' '0001' '0010' '0011' '0100' '0101' '0110' '0111']\n",
      " ['0000' '0001' '0010' '0011' '0100' '0101' '0110' '0111']\n",
      " ['0000' '0001' '0010' '0011' '0100' '0101' '0110' '0111']]\n",
      "(3, 8)\n",
      "(3, 8)\n"
     ]
    }
   ],
   "source": [
    "#To-do: maybe create (example) pd dataframe with all binary id's and coefficients\n",
    "im0 = np.arange(0, X, 1)\n",
    "im1 = im0[np.newaxis, :]\n",
    "im = np.repeat(im1, N, axis=0)\n",
    "#Binary representation of im (just for visualisation)\n",
    "imbin = np.vectorize(np.binary_repr)(im, 4) #increase  to 8/16/32 with larger N \n",
    "print(\"identity matrix (maybe useful for vis)\")\n",
    "print(imbin)\n",
    "#check if shape is same\n",
    "print(a_shape.shape)\n",
    "print(imbin.shape)\n",
    "\n",
    "#make pd dataframe"
   ]
  },
  {
   "cell_type": "markdown",
   "metadata": {},
   "source": [
    "Manual check of code for N=3 & K=2\n"
   ]
  },
  {
   "cell_type": "code",
   "execution_count": 64,
   "metadata": {},
   "outputs": [
    {
     "name": "stdout",
     "output_type": "stream",
     "text": [
      "manual a\n",
      "[[-0.30174352]\n",
      " [-0.45950551]\n",
      " [ 0.41000552]]\n",
      "coefficient array from model\n",
      "[[ 0.35766056  0.06466992  0.45005862 -0.30174352  0.37285906  0.01780427\n",
      "  -0.47879156 -0.06529281]\n",
      " [ 0.78462878 -0.20980113 -0.09582118 -0.45950551 -0.66147888  0.74149722\n",
      "   0.30859875 -0.04631461]\n",
      " [ 0.85527683 -0.3807725  -0.6362468   0.41000552 -0.07429029 -0.17518007\n",
      "  -0.07645905  0.85227664]]\n"
     ]
    }
   ],
   "source": [
    "#Set model N to 3 and K to 2 for check\n",
    "\n",
    "Fi0 = (fm[:, [0,]])\n",
    "ai0 = Fi0\n",
    "#ai(1)\n",
    "Fi1 = (fm[:, [1,]])\n",
    "ai1 = Fi1 - ai0\n",
    "#ai(2)\n",
    "Fi2 = (fm[:, [2,]])\n",
    "ai2 = Fi2 - ai0\n",
    "#ai(3)\n",
    "Fi3 = (fm[:, [3,]])\n",
    "ai3 = Fi3 - ai0 - ai1 - ai2\n",
    "#ai(4)\n",
    "Fi4 = (fm[:, [4,]])\n",
    "ai4 = Fi4 - ai0\n",
    "#ai(5)\n",
    "Fi5 = (fm[:, [5,]])\n",
    "ai5 = Fi5 - ai0 - ai4 - ai1\n",
    "#ai(6)\n",
    "Fi6 = (fm[:, [6,]])\n",
    "ai6 = Fi6 - ai0 - ai2 - ai4\n",
    "#ai(7)\n",
    "Fi7 = (fm[:, [7,]])\n",
    "ai7 = Fi7 - ai0 - ai1 - ai2 - ai3 - ai4 - ai5 - ai6\n",
    "\n",
    "\n",
    "#check if coefficients match\n",
    "print(\"manual a\")\n",
    "print(ai3) #any a\n",
    "print(\"coefficient array from model\")\n",
    "print(a_shape)\n",
    "\n",
    "#same so model works :)"
   ]
  },
  {
   "cell_type": "code",
   "execution_count": 65,
   "metadata": {},
   "outputs": [
    {
     "name": "stdout",
     "output_type": "stream",
     "text": [
      "NK coefficients without neutrality\n",
      "[[0.35766056 0.42233048 0.80771918 0.57064558 0.73051962 0.81299381\n",
      "  0.70178668 0.41722454]\n",
      " [0.78462878 0.57482766 0.6888076  0.01950096 0.1231499  0.654846\n",
      "  0.33592747 0.36180345]\n",
      " [0.85527683 0.47450433 0.21903003 0.24826305 0.78098654 0.22503397\n",
      "  0.06828069 0.77461027]]\n",
      "NKp coefficients\n",
      "[[0.35766056 0.         0.         0.57064558 0.         0.\n",
      "  0.70178668 0.41722454]\n",
      " [0.78462878 0.         0.         0.         0.1231499  0.\n",
      "  0.33592747 0.36180345]\n",
      " [0.85527683 0.         0.         0.24826305 0.         0.22503397\n",
      "  0.06828069 0.77461027]]\n",
      "NKq coefficients\n",
      "[[0. 0. 0. 1. 0. 0. 1. 0.]\n",
      " [1. 0. 0. 0. 0. 0. 0. 0.]\n",
      " [1. 0. 0. 0. 0. 0. 0. 1.]]\n"
     ]
    }
   ],
   "source": [
    "#NKp: reduce fraction of fitness contributions in fm to 0\n",
    "\n",
    "print(\"NK coefficients without neutrality\")\n",
    "print(fm)\n",
    "\n",
    "# Number of elements to replace\n",
    "p = ((N-1)/N)   \n",
    "num_p = int(((N-1)/N) * (N*X)) #(with p = (N-1)/N (Geard 10.1109/CEC.2002.1006234))\n",
    "\n",
    "# Random (x, y) coordinates\n",
    "indices_x = np.random.randint(0, fm.shape[0], num_p)\n",
    "indices_y = np.random.randint(0, fm.shape[1], num_p)\n",
    "\n",
    "fmp = fm[indices_x, indices_y] = 0\n",
    "print(\"NKp coefficients\")\n",
    "print(fm)\n",
    "\n",
    "#NKq: fitness contribution < 0.5 == 0, > 0.5 == 1\n",
    "fmq1 = np.where(fm > 0.5, 1.0, fm)\n",
    "fmq = np.where(fmq1 < 0.5, 0.0, fmq1)\n",
    "print(\"NKq coefficients\")\n",
    "print(fmq) # = new, modified fm\n"
   ]
  }
 ],
 "metadata": {
  "kernelspec": {
   "display_name": "base",
   "language": "python",
   "name": "python3"
  },
  "language_info": {
   "codemirror_mode": {
    "name": "ipython",
    "version": 3
   },
   "file_extension": ".py",
   "mimetype": "text/x-python",
   "name": "python",
   "nbconvert_exporter": "python",
   "pygments_lexer": "ipython3",
   "version": "3.11.5"
  }
 },
 "nbformat": 4,
 "nbformat_minor": 2
}
