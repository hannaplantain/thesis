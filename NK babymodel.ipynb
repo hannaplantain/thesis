{
 "cells": [
  {
   "cell_type": "markdown",
   "metadata": {},
   "source": [
    "## NK babymodel"
   ]
  },
  {
   "cell_type": "markdown",
   "metadata": {},
   "source": [
    "Settings & import necessary packages"
   ]
  },
  {
   "cell_type": "code",
   "execution_count": 20,
   "metadata": {},
   "outputs": [],
   "source": [
    "%matplotlib inline\n",
    "import numpy as np\n",
    "import matplotlib as mpl\n",
    "import matplotlib.pyplot as plt\n",
    "import seaborn as sns\n",
    "import pandas as pd\n",
    "sns.set_style('ticks')\n",
    "sns.set_context('paper', font_scale=2)\n",
    "red, blue, green = sns.color_palette('Set1', 3)"
   ]
  },
  {
   "cell_type": "markdown",
   "metadata": {},
   "source": [
    "Model inputs"
   ]
  },
  {
   "cell_type": "code",
   "execution_count": 7,
   "metadata": {},
   "outputs": [
    {
     "data": {
      "text/plain": [
       "7"
      ]
     },
     "execution_count": 7,
     "metadata": {},
     "output_type": "execute_result"
    }
   ],
   "source": [
    "#set values of N and K\n",
    "N = 3\n",
    "K = 2\n",
    "#iterations or not?\n",
    "2**(K+1)-1"
   ]
  },
  {
   "cell_type": "markdown",
   "metadata": {},
   "source": [
    "Attach uniformly distributed random values to corners of K-dimensional hypercube (create binary fitness matrix F for corners)"
   ]
  },
  {
   "cell_type": "code",
   "execution_count": 62,
   "metadata": {},
   "outputs": [
    {
     "name": "stdout",
     "output_type": "stream",
     "text": [
      "         y0        y1        y2        y3        y4        y5        y6  \\\n",
      "0  0.680151  0.686752  0.614123  0.287413  0.130045  0.469762  0.209405   \n",
      "1  0.009709  0.274530  0.810624  0.487736  0.065579  0.871268  0.459743   \n",
      "2  0.208398  0.280705  0.855550  0.178344  0.847520  0.158450  0.704977   \n",
      "\n",
      "         y7  \n",
      "0  0.571435  \n",
      "1  0.723637  \n",
      "2  0.463786  \n",
      "[[0.68015117 0.68675181 0.61412333 0.28741305 0.13004528 0.46976222\n",
      "  0.20940466 0.57143522]\n",
      " [0.0097087  0.2745301  0.81062423 0.48773608 0.06557888 0.87126838\n",
      "  0.45974303 0.72363723]\n",
      " [0.20839776 0.28070485 0.85555037 0.17834419 0.84751979 0.15845012\n",
      "  0.70497718 0.46378568]]\n"
     ]
    }
   ],
   "source": [
    "#create np.array with shape 2**(K+1)-1, N and \n",
    "# #Fill array with random fitness values between 0 and 1\n",
    "y=np.random.random(N)\n",
    "y1=np.random.random(N)\n",
    "y2=np.random.random(N)\n",
    "y3=np.random.random(N)\n",
    "y4=np.random.random(N)\n",
    "y5=np.random.random(N)\n",
    "y6=np.random.random(N)\n",
    "y7=np.random.random(N)\n",
    "fm = pd.DataFrame({'y0':y,'y1':y1,'y2':y2,'y3':y3,'y4':y4,'y5':y5,'y6':y6,'y7':y7 })\n",
    "fm.values \n",
    "print(fm)\n",
    "print(fm.values)\n"
   ]
  },
  {
   "cell_type": "markdown",
   "metadata": {},
   "source": [
    "Compute coefficients a(i0) to a(ij) based on fitness matrix and eq. 4"
   ]
  },
  {
   "cell_type": "code",
   "execution_count": 71,
   "metadata": {},
   "outputs": [
    {
     "ename": "TypeError",
     "evalue": "'builtin_function_or_method' object is not subscriptable",
     "output_type": "error",
     "traceback": [
      "\u001b[1;31m---------------------------------------------------------------------------\u001b[0m",
      "\u001b[1;31mTypeError\u001b[0m                                 Traceback (most recent call last)",
      "\u001b[1;32mc:\\Users\\hanna\\Desktop\\Python practice\\NK babymodel.ipynb Cell 9\u001b[0m line \u001b[0;36m1\n\u001b[0;32m     <a href='vscode-notebook-cell:/c%3A/Users/hanna/Desktop/Python%20practice/NK%20babymodel.ipynb#X11sZmlsZQ%3D%3D?line=15'>16</a>\u001b[0m ai4 \u001b[39m=\u001b[39m Fi4 \u001b[39m-\u001b[39m ai0\n\u001b[0;32m     <a href='vscode-notebook-cell:/c%3A/Users/hanna/Desktop/Python%20practice/NK%20babymodel.ipynb#X11sZmlsZQ%3D%3D?line=16'>17</a>\u001b[0m \u001b[39m#ai(5)\u001b[39;00m\n\u001b[1;32m---> <a href='vscode-notebook-cell:/c%3A/Users/hanna/Desktop/Python%20practice/NK%20babymodel.ipynb#X11sZmlsZQ%3D%3D?line=17'>18</a>\u001b[0m Fi5 \u001b[39m=\u001b[39m (fm\u001b[39m.\u001b[39mvalues\u001b[39m.\u001b[39mtolist[:, [\u001b[39m5\u001b[39m,]])\n\u001b[0;32m     <a href='vscode-notebook-cell:/c%3A/Users/hanna/Desktop/Python%20practice/NK%20babymodel.ipynb#X11sZmlsZQ%3D%3D?line=18'>19</a>\u001b[0m ai5 \u001b[39m=\u001b[39m Fi5 \u001b[39m-\u001b[39m ai0 \u001b[39m-\u001b[39m ai4 \u001b[39m-\u001b[39m ai1\n\u001b[0;32m     <a href='vscode-notebook-cell:/c%3A/Users/hanna/Desktop/Python%20practice/NK%20babymodel.ipynb#X11sZmlsZQ%3D%3D?line=19'>20</a>\u001b[0m \u001b[39mprint\u001b[39m(ai5)\n",
      "\u001b[1;31mTypeError\u001b[0m: 'builtin_function_or_method' object is not subscriptable"
     ]
    }
   ],
   "source": [
    "#a(i0) to a(ij)\n",
    "#a(i0) = Fi(0)\n",
    "Fi0 = (fm.values[:, [0,]])\n",
    "ai0 = Fi0\n",
    "#ai(1)\n",
    "Fi1 = (fm.values[:, [1,]])\n",
    "ai1 = Fi1 - ai0\n",
    "#ai(2)\n",
    "Fi2 = (fm.values[:, [2,]])\n",
    "ai2 = Fi2 - ai0\n",
    "#ai(3)\n",
    "Fi3 = (fm.values[:, [3,]])\n",
    "ai3 = Fi3 - ai0 - ai1 - ai2\n",
    "#ai(4)\n",
    "Fi4 = (fm.values[:, [4,]])\n",
    "ai4 = Fi4 - ai0\n",
    "#ai(5)\n",
    "Fi5 = (fm.values[:, [5,]])\n",
    "ai5 = Fi5 - ai0 - ai4 - ai1\n",
    "print(ai5)\n",
    "#ai(6)\n",
    "Fi6 = (fm.values[:, [6,]])\n",
    "ai6 = Fi6 - ai0 - ai2 - ai4\n",
    "#ai(7)\n",
    "Fi7 = (fm.values[:, [7,]])\n",
    "ai7 = Fi7 - ai0 - ai1 - ai2 - ai3 - ai4 - ai5 - ai6\n",
    "\n",
    "#compile\n",
    "am = pd.DataFrame({'ai0':ai0,'ai1':ai1,'ai2':ai2,'ai3':ai3,'ai4':ai4,'ai5':ai5,'ai6':ai6,'ai7':ai7 })\n"
   ]
  },
  {
   "cell_type": "markdown",
   "metadata": {},
   "source": [
    "Use eq. 1 to compute model, with domain of x values replaced by [0,1]^N "
   ]
  },
  {
   "cell_type": "code",
   "execution_count": null,
   "metadata": {},
   "outputs": [],
   "source": []
  }
 ],
 "metadata": {
  "kernelspec": {
   "display_name": "base",
   "language": "python",
   "name": "python3"
  },
  "language_info": {
   "codemirror_mode": {
    "name": "ipython",
    "version": 3
   },
   "file_extension": ".py",
   "mimetype": "text/x-python",
   "name": "python",
   "nbconvert_exporter": "python",
   "pygments_lexer": "ipython3",
   "version": "3.11.5"
  }
 },
 "nbformat": 4,
 "nbformat_minor": 2
}
