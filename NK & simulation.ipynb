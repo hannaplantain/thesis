{
 "cells": [
  {
   "cell_type": "markdown",
   "metadata": {},
   "source": [
    "## NK Model"
   ]
  },
  {
   "cell_type": "markdown",
   "metadata": {},
   "source": [
    "### Introduction"
   ]
  },
  {
   "cell_type": "markdown",
   "metadata": {},
   "source": [
    "This notebook (...)."
   ]
  },
  {
   "cell_type": "markdown",
   "metadata": {},
   "source": [
    "### Parameters and settings\n"
   ]
  },
  {
   "cell_type": "markdown",
   "metadata": {},
   "source": [
    "All parameter settings and modeling choices go in this section."
   ]
  },
  {
   "cell_type": "code",
   "execution_count": 213,
   "metadata": {},
   "outputs": [],
   "source": [
    "# MODEL PARAMETERS\n",
    "N = 3 # length of each genome\n",
    "K_i = 2 # ruggedness parameter of the NK model for individual fitness\n",
    "K_g = K_i # ruggedness parameter of the NK model for groups\n",
    "G = 50 # number of groups\n",
    "I = 100 # maximum number of individuals per group\n",
    "gen_time = 10 # generation time of groups relative tot that of individuals \n",
    "\n",
    "# NEUTRALIY\n",
    "neutrality_i = [\"NKp\"] # fitness model at individual level; choose \"NK\", \"NKp\", or \"NKq\"\n",
    "neutrality_g = [\"NKp\"] # fitness model at individual level; choose \"NK\", \"NKp\", or \"NKq\"\n",
    "p_i = 0.5 # p of NKp for individual-level fitness\n",
    "p_g = p_i # p of NKp for group-level fitness\n",
    "q_i = 4 # q of NKq for individual-level fitness\n",
    "q_g = q_i # q of NKq for group-level fitness\n",
    "\n",
    "# NETWORK PROPERTIES\n",
    "\"\"\"\n",
    "choose \"r\" for sampling with replacement, \n",
    "\"nr\" for without replacement, \n",
    "\"block\" for blockwise interactions\n",
    "\"\"\"\n",
    "network_i = [\"r\"]\n",
    "network_g = [\"r\"]\n",
    "\n",
    "# SIMULATION PARAMETERS\n",
    "my_seed = 10 # random seed\n",
    "t_end = 1000 # end time, in units of individual generation times."
   ]
  },
  {
   "cell_type": "markdown",
   "metadata": {},
   "source": [
    "### Packages"
   ]
  },
  {
   "cell_type": "code",
   "execution_count": 214,
   "metadata": {},
   "outputs": [],
   "source": [
    "#import necessary packages\n",
    "import numpy as np\n",
    "import random as rd\n",
    "import matplotlib.pyplot as plot\n",
    "from mpl_toolkits.mplot3d import Axes3D\n",
    "from sklearn.linear_model import LinearRegression\n",
    "\n",
    "#set style for all plots\n",
    "plot.style.use(\"seaborn-v0_8-colorblind\")"
   ]
  },
  {
   "cell_type": "markdown",
   "metadata": {},
   "source": [
    "### Shorthands"
   ]
  },
  {
   "cell_type": "markdown",
   "metadata": {},
   "source": [
    "Calculate shorthands that will be used throughout the simulation."
   ]
  },
  {
   "cell_type": "code",
   "execution_count": 215,
   "metadata": {},
   "outputs": [],
   "source": [
    "B_i = 2**(K_i + 1) # number of hypercube corners for the fitness contributions of each gene\n",
    "# (= columns in fitness matrix) at the individual level \n",
    "B_g = 2**(K_g + 1) # number of hypercube corners for the fitness contributions of each gene\n",
    "# (= columns in fitness matrix) at the group level"
   ]
  },
  {
   "cell_type": "markdown",
   "metadata": {},
   "source": [
    "### Global variables"
   ]
  },
  {
   "cell_type": "markdown",
   "metadata": {},
   "source": [
    "Define and create global variables that will be used thoughout the simulation."
   ]
  },
  {
   "cell_type": "code",
   "execution_count": 217,
   "metadata": {},
   "outputs": [],
   "source": [
    "# fitness matrix\n",
    "fm_i = np.zeros((N, B_i)) # invullen: lege array N x B_j\n",
    "fm_g = np.zeros((N, B_g)) # invullen: lege arry N x B_g\n",
    "\n",
    "# epistasis matrices\n",
    "val = list(range(0, N))\n",
    "\n",
    "# (initial) genomes/coordinates individual and group level\n",
    "ind_genomes = np.random.randint(0, 2, size = (I, N)) #randomly generates binary genomes for all individuals \n",
    "##ind_genomes_gr = #individuals grouped, not sure yet what smartest way is\n",
    "#gr_genomes = np.mean(ind_genomes_gr, axis=0,) #takes avg of each column to generate group genome - exact method depends on grouping method\n",
    "gr_genomes = np.random.rand(G, N) #randomly generates coordinates within hypercube for all individuals - replace by line above\n",
    "\n",
    "# fitness values\n",
    "#f_i = # absolute fitness individual level\n",
    "f_i_comp = np.random.rand(I, N) #randomly generates fitness contributions associated with gene values of all individuals\n",
    "f_i = np.mean(f_i_comp, axis=1,) #absolute fitness of all individuals (=avg by row of f_i_comp)\n",
    "f_i = f_i.reshape(-1, 1) \n",
    "#f_g = # absolute fitness group level\n",
    "\n",
    "#w_i = # relative fitness individual level\n",
    "\n",
    "#w_g = # relative fitness group level"
   ]
  },
  {
   "cell_type": "markdown",
   "metadata": {},
   "source": [
    "### Function definitions"
   ]
  },
  {
   "cell_type": "markdown",
   "metadata": {},
   "source": [
    "#### ... for constructing epistasis matrix without repetition"
   ]
  },
  {
   "cell_type": "code",
   "execution_count": 219,
   "metadata": {},
   "outputs": [],
   "source": [
    "#functions to create epistasis matrices without repeats\n",
    "def generate_all_perm_tree(level, nums): \n",
    "    \"\"\"\n",
    "    makes tree structure with all possible permutations of given 'nums',\n",
    "    where each number is allowed to move to next position in permutation, excluding repeats\n",
    "    - level: Current level in the permutation.\n",
    "    - nums (list): list of numbers to permute.\n",
    "    returns:\n",
    "    - dict: nested dictionary representing the permutation tree structure.\n",
    "        Each key is a number, and corresponding value is the subtree for the next level.\n",
    "    \"\"\"\n",
    "    if len(nums) == 1:\n",
    "        if level == nums[0]:\n",
    "            return None\n",
    "        else:\n",
    "            return {nums[0]: {}}\n",
    "    allowed_number = list(nums)\n",
    "    if level in allowed_number:\n",
    "        allowed_number.remove(level)\n",
    "    result = {}\n",
    "    for number in allowed_number:\n",
    "        sublevel_number = list(nums)\n",
    "        if number in sublevel_number:\n",
    "            sublevel_number.remove(number)\n",
    "        subtree = generate_all_perm_tree(level + 1, sublevel_number)\n",
    "        if subtree is not None:\n",
    "            result[number] = subtree\n",
    "    if len(result) == 0:\n",
    "        return None\n",
    "    return result\n",
    "\n",
    "def pick_all_moved_perm(all_moved_perm_tree, picked=None):#picks permutation of numbers from previously generated tree, with each number selected only once\n",
    "    \"\"\"\n",
    "    Picks permutation of numbers from previously generated tree, with each number selected only once\n",
    "    - all_moved_perm_tree (dictionary): The permutation tree generated by generate_all_perm_tree\n",
    "    - picked: set of numbers already picked.\n",
    "    Return:\n",
    "    - list: representing a permutation of numbers\n",
    "    \"\"\"\n",
    "    if picked is None:\n",
    "        picked = set()\n",
    "    allowed_num_set = set(all_moved_perm_tree.keys()) - picked\n",
    "    if not allowed_num_set:\n",
    "        return []\n",
    "    number = rd.choice(list(allowed_num_set))\n",
    "    picked.add(number)\n",
    "    l = [number]\n",
    "    sub_tree = all_moved_perm_tree[number]\n",
    "    if len(sub_tree) > 0:\n",
    "        l.extend(pick_all_moved_perm(sub_tree, picked))\n",
    "    return l\n",
    "\n",
    "def generate_unique_r(tree, num_rows): \n",
    "    \"\"\"\n",
    "    Generates an array of unique pairs of numbers, with no number repeated in a row\n",
    "    - tree (dict):the permutation tree generated by generate_all_moved_perm_tree.\n",
    "    - num_rows: the number of rows to generate.\n",
    "    Returns:\n",
    "    - 2d array representing unique pairs of numbers in each row\n",
    "    \"\"\"\n",
    "    result = []\n",
    "    for _ in range(num_rows):\n",
    "        row = list(zip(pick_all_moved_perm(tree), pick_all_moved_perm(tree)))\n",
    "        while any(x[0] == x[1] for x in row):\n",
    "            row = list(zip(pick_all_moved_perm(tree), pick_all_moved_perm(tree)))\n",
    "        result.extend(row)\n",
    "    return np.array(result[:num_rows])"
   ]
  },
  {
   "cell_type": "markdown",
   "metadata": {},
   "source": [
    "#### ... for choosing preferred epistasis"
   ]
  },
  {
   "cell_type": "code",
   "execution_count": 220,
   "metadata": {},
   "outputs": [],
   "source": [
    "def create_epistasis_matrix_i(): #epistasis matrix individual level\n",
    "    em_i = []\n",
    "    match network_i:\n",
    "        case [\"r\"]:\n",
    "            for row in range(N):\n",
    "                val = list(range(0, N))\n",
    "                gene_pair = rd.sample(val[:row] + val[row + 1:], K_i)  \n",
    "                em_i.append([row] + gene_pair)\n",
    "            em_i = np.array(em_i)  #first with own gene referenced\n",
    "            em_i = em_i[:, 1:] #without own gene referenced #remove this row or above\n",
    "        case [\"nr\"]:\n",
    "            tree = generate_all_perm_tree(1, range(1, N+1))\n",
    "            em_i = generate_unique_r(tree, N)\n",
    "        #case [\"block\"]:\n",
    "           # em = #working on it :)\n",
    "    return em_i\n",
    "\n",
    "def create_epistasis_matrix_g():\n",
    "    em_g = []\n",
    "    match network_g:\n",
    "        case [\"r\"]:\n",
    "            val = list(range(N))\n",
    "            for row in range(N):\n",
    "                gene_pair = rd.sample(val[:row] + val[row + 1:], K_g)  # Select K_g unique genes \n",
    "                em_g.append([row] + gene_pair)  # Row number added to the beginning\n",
    "            em_g = np.array(em_g)  # First with own gene referenced\n",
    "            em_g = em_g[:, 1:]\n",
    "        case [\"nr\"]:\n",
    "            tree = generate_all_perm_tree(1, range(1, N+1))\n",
    "            em_g = generate_unique_r(tree, N)\n",
    "        # case [\"block\"]:\n",
    "        #    em = # working on it :)\n",
    "    return em_g"
   ]
  },
  {
   "cell_type": "markdown",
   "metadata": {},
   "source": [
    "#### ... for constructing fitness landscapes"
   ]
  },
  {
   "cell_type": "code",
   "execution_count": 221,
   "metadata": {},
   "outputs": [],
   "source": [
    "def create_fitness_matrix_i():\n",
    "    fm = np.random.rand(N, B_i)\n",
    "    match neutrality_i:\n",
    "        case [\"NK\"]:\n",
    "            #\n",
    "            pass\n",
    "        case [\"NKp\"]:\n",
    "            fm = np.where(np.random.rand(*fm.shape) < p_i, 0, fm) \n",
    "        case [\"NKq\"]:\n",
    "            fm = np.digitize(fm, bins=np.linspace(0, 1, q_i+1), right=True) - 1\n",
    "    return fm\n",
    "\n",
    "def create_fitness_matrix_g():\n",
    "    fm = np.random.rand(N, B_g)\n",
    "    match neutrality_g:\n",
    "        case [\"NK\"]:\n",
    "            #\n",
    "            pass\n",
    "        case [\"NKp\"]:\n",
    "            fm = np.where(np.random.rand(*fm.shape) < p_g, 0, fm) \n",
    "        case [\"NKq\"]:\n",
    "            fm = np.digitize(fm, bins=np.linspace(0, 1, q_g+1), right=True) - 1\n",
    "    return fm"
   ]
  },
  {
   "cell_type": "markdown",
   "metadata": {},
   "source": [
    "#### ... for calculating coefficients (ai0 to aij)"
   ]
  },
  {
   "cell_type": "code",
   "execution_count": 222,
   "metadata": {},
   "outputs": [],
   "source": [
    "def calc_a(K, fm): \n",
    "    \"\"\"\n",
    "    calculate and return coefficients based on fitness matrix \n",
    "    - K: number of rows in the matrix\n",
    "    - fm: fitness matrix\n",
    "    Returns:\n",
    "    - List containing 'a' coefficients for each row of the input matrix\n",
    "    \"\"\"\n",
    "    a_coefficients = []\n",
    "    for r in fm:\n",
    "        a = [0.0] * B_g  # initialises list with zeros as floats for each row & X cols\n",
    "        a[0] = r[0] #set ai0 to Fi0 \n",
    "        for j in range(1, B_g): \n",
    "            sum = 0.0 \n",
    "            # Calculate next coefs based only on previously calculated coefs\n",
    "            for l in range(0, j): \n",
    "                #check if l equal to bitwise AND of l and j \n",
    "                #(ex: 001&101->001 TRUE; 001&100->000 FALSE)\n",
    "                if l == (l & j): \n",
    "                    sum += a[l] \n",
    "            a[j] = r[j] - sum \n",
    "        a_coefficients.append(a) # append new a's into result array\n",
    "    return a_coefficients"
   ]
  },
  {
   "cell_type": "markdown",
   "metadata": {},
   "source": [
    "#### ... for calculating fitness values"
   ]
  },
  {
   "cell_type": "code",
   "execution_count": 223,
   "metadata": {},
   "outputs": [],
   "source": [
    "#fitness functions group fitness\n",
    "def gene_fitness(coefficients, epistasis, genome, gene):\n",
    "    \"\"\"\n",
    "    Calculate the fitness component of a specific gene in a genome\n",
    "    - coefficients (array): coefficient matrix as calculated by calc_a\n",
    "    - epistasis (\"): Epistasis matrix representing interactions between genes\n",
    "    - genome (\"): genome values\n",
    "    - gene (int): index of specific gene for which fitness component is calculated\n",
    "    Returns:\n",
    "    - fitness component of the specified gene in the genome (float)\n",
    "    \"\"\"\n",
    "    result = 0\n",
    "\n",
    "    for j in range(coefficients.shape[1]):\n",
    "        contribution = coefficients[gene, j] * genome[gene] ** (1 & j)\n",
    "        for k in range(epistasis.shape[1]):\n",
    "            epi_index = epistasis[gene, k]\n",
    "            epi_value = genome[epi_index]\n",
    "            product_term = epi_value ** ((2**k & j) / 2**k)\n",
    "            contribution *= product_term\n",
    "\n",
    "        result += contribution\n",
    "    return result\n",
    "\n",
    "def genome_fitness(coefficients, epistasis, genome):\n",
    "    \"\"\"\n",
    "    Calculate fitness components for all genes within a genome \n",
    "    return:\n",
    "    array containing fitness components for each gene in the genome\n",
    "    \"\"\"\n",
    "    fit_vals = np.zeros(len(genome))\n",
    "\n",
    "    for gene in range(len(genome)):\n",
    "        fit_vals[gene] = gene_fitness(coefficients, epistasis, genome, gene)\n",
    "    return fit_vals\n",
    "\n",
    "def calculate_fitness(coefficients, epistasis, genomes):\n",
    "    \"\"\"\n",
    "    Calculate the fitness components for all genes in all genomes\n",
    "    Return:\n",
    "    2D array containing fitness components for each gene (cols) in each genome (rows)\n",
    "    \"\"\"\n",
    "    G, N = len(genomes), len(genomes[0])\n",
    "    fit_val = np.zeros((G, N))\n",
    "\n",
    "    for group in range(G):\n",
    "        fit_val[group, :] = genome_fitness(coefficients, epistasis, genomes[group])\n",
    "    return fit_val"
   ]
  },
  {
   "cell_type": "markdown",
   "metadata": {},
   "source": [
    "#### ... for running simulations"
   ]
  },
  {
   "cell_type": "code",
   "execution_count": null,
   "metadata": {},
   "outputs": [],
   "source": [
    "def initialize_genomes():\n",
    "    #sth\n",
    "\n",
    "def update_rates(): \n",
    "    #sth\n",
    "\n",
    "def choose_event(rates): \n",
    "    #sth\n",
    "\n",
    "def execute_reaction(event):\n",
    "    #sth"
   ]
  },
  {
   "cell_type": "markdown",
   "metadata": {},
   "source": [
    "### Tests"
   ]
  },
  {
   "cell_type": "code",
   "execution_count": 224,
   "metadata": {},
   "outputs": [],
   "source": [
    "#testing for multilinearity continuous NK model: vary one coordinate/gene value of a group genome, while keeping others constant:\n",
    "def gene_fitness_var(coefficients, epistasis, genome, gene):\n",
    "    \"\"\"\n",
    "    adapted fitness function that iterates through all rows of array with 100 rows of same genome \n",
    "    with one varied coordinate and N-1 constant coordinates to test for multilinearity\n",
    "    - \n",
    "    -\n",
    "    - \n",
    "    Return:\n",
    "    \n",
    "    \"\"\"\n",
    "    result = 0\n",
    "\n",
    "    for j in range(coefficients.shape[1]):\n",
    "        contribution = coefficients[gene, j] * genome[gene] ** (1 & j)\n",
    "\n",
    "        for k in range(epistasis.shape[1]):\n",
    "            epi_index = epistasis[gene, k]\n",
    "            epi_value = genome[epi_index]\n",
    "            product_term = epi_value ** ((2**k & j) / 2**k)\n",
    "            contribution *= product_term\n",
    "\n",
    "        result += contribution\n",
    "    return result\n",
    "\n",
    "def genome_fitness_var(coefficients, epistasis, genome):\n",
    "    fit_vals = np.zeros(len(genome))\n",
    "\n",
    "    for gene in range(len(genome)):\n",
    "        fit_vals[gene] = gene_fitness(coefficients, epistasis, genome, gene)\n",
    "    return fit_vals\n",
    "\n",
    "def calculate_fitness_var(coefficients, epistasis, genomes):\n",
    "    I, N = genomes.shape[0], genomes.shape[1]\n",
    "    fit_val = np.zeros((I, N))\n",
    "\n",
    "    for group in range(I):\n",
    "        fit_val[group, :] = genome_fitness(coefficients, epistasis, genomes[group, :])\n",
    "    return fit_val\n"
   ]
  },
  {
   "cell_type": "code",
   "execution_count": 225,
   "metadata": {},
   "outputs": [
    {
     "name": "stdout",
     "output_type": "stream",
     "text": [
      "(3, 2)\n",
      "(100, 3)\n",
      "[[0.         0.15838121 0.15838121]\n",
      " [0.00291729 0.15826272 0.15826272]\n",
      " [0.00583458 0.15814422 0.15814422]\n",
      " [0.00875187 0.15802573 0.15802573]\n",
      " [0.01166917 0.15790724 0.15790724]\n",
      " [0.01458646 0.15778874 0.15778874]\n",
      " [0.01750375 0.15767025 0.15767025]\n",
      " [0.02042104 0.15755176 0.15755176]\n",
      " [0.02333833 0.15743327 0.15743327]\n",
      " [0.02625562 0.15731477 0.15731477]\n",
      " [0.02917292 0.15719628 0.15719628]\n",
      " [0.03209021 0.15707779 0.15707779]\n",
      " [0.0350075  0.1569593  0.1569593 ]\n",
      " [0.03792479 0.1568408  0.1568408 ]\n",
      " [0.04084208 0.15672231 0.15672231]\n",
      " [0.04375937 0.15660382 0.15660382]\n",
      " [0.04667667 0.15648532 0.15648532]\n",
      " [0.04959396 0.15636683 0.15636683]\n",
      " [0.05251125 0.15624834 0.15624834]\n",
      " [0.05542854 0.15612985 0.15612985]\n",
      " [0.05834583 0.15601135 0.15601135]\n",
      " [0.06126312 0.15589286 0.15589286]\n",
      " [0.06418042 0.15577437 0.15577437]\n",
      " [0.06709771 0.15565587 0.15565587]\n",
      " [0.070015   0.15553738 0.15553738]\n",
      " [0.07293229 0.15541889 0.15541889]\n",
      " [0.07584958 0.1553004  0.1553004 ]\n",
      " [0.07876687 0.1551819  0.1551819 ]\n",
      " [0.08168417 0.15506341 0.15506341]\n",
      " [0.08460146 0.15494492 0.15494492]\n",
      " [0.08751875 0.15482643 0.15482643]\n",
      " [0.09043604 0.15470793 0.15470793]\n",
      " [0.09335333 0.15458944 0.15458944]\n",
      " [0.09627062 0.15447095 0.15447095]\n",
      " [0.09918791 0.15435245 0.15435245]\n",
      " [0.10210521 0.15423396 0.15423396]\n",
      " [0.1050225  0.15411547 0.15411547]\n",
      " [0.10793979 0.15399698 0.15399698]\n",
      " [0.11085708 0.15387848 0.15387848]\n",
      " [0.11377437 0.15375999 0.15375999]\n",
      " [0.11669166 0.1536415  0.1536415 ]\n",
      " [0.11960896 0.153523   0.153523  ]\n",
      " [0.12252625 0.15340451 0.15340451]\n",
      " [0.12544354 0.15328602 0.15328602]\n",
      " [0.12836083 0.15316753 0.15316753]\n",
      " [0.13127812 0.15304903 0.15304903]\n",
      " [0.13419541 0.15293054 0.15293054]\n",
      " [0.13711271 0.15281205 0.15281205]\n",
      " [0.14003    0.15269356 0.15269356]\n",
      " [0.14294729 0.15257506 0.15257506]\n",
      " [0.14586458 0.15245657 0.15245657]\n",
      " [0.14878187 0.15233808 0.15233808]\n",
      " [0.15169916 0.15221958 0.15221958]\n",
      " [0.15461646 0.15210109 0.15210109]\n",
      " [0.15753375 0.1519826  0.1519826 ]\n",
      " [0.16045104 0.15186411 0.15186411]\n",
      " [0.16336833 0.15174561 0.15174561]\n",
      " [0.16628562 0.15162712 0.15162712]\n",
      " [0.16920291 0.15150863 0.15150863]\n",
      " [0.17212021 0.15139013 0.15139013]\n",
      " [0.1750375  0.15127164 0.15127164]\n",
      " [0.17795479 0.15115315 0.15115315]\n",
      " [0.18087208 0.15103466 0.15103466]\n",
      " [0.18378937 0.15091616 0.15091616]\n",
      " [0.18670666 0.15079767 0.15079767]\n",
      " [0.18962396 0.15067918 0.15067918]\n",
      " [0.19254125 0.15056069 0.15056069]\n",
      " [0.19545854 0.15044219 0.15044219]\n",
      " [0.19837583 0.1503237  0.1503237 ]\n",
      " [0.20129312 0.15020521 0.15020521]\n",
      " [0.20421041 0.15008671 0.15008671]\n",
      " [0.2071277  0.14996822 0.14996822]\n",
      " [0.210045   0.14984973 0.14984973]\n",
      " [0.21296229 0.14973124 0.14973124]\n",
      " [0.21587958 0.14961274 0.14961274]\n",
      " [0.21879687 0.14949425 0.14949425]\n",
      " [0.22171416 0.14937576 0.14937576]\n",
      " [0.22463145 0.14925726 0.14925726]\n",
      " [0.22754875 0.14913877 0.14913877]\n",
      " [0.23046604 0.14902028 0.14902028]\n",
      " [0.23338333 0.14890179 0.14890179]\n",
      " [0.23630062 0.14878329 0.14878329]\n",
      " [0.23921791 0.1486648  0.1486648 ]\n",
      " [0.2421352  0.14854631 0.14854631]\n",
      " [0.2450525  0.14842782 0.14842782]\n",
      " [0.24796979 0.14830932 0.14830932]\n",
      " [0.25088708 0.14819083 0.14819083]\n",
      " [0.25380437 0.14807234 0.14807234]\n",
      " [0.25672166 0.14795384 0.14795384]\n",
      " [0.25963895 0.14783535 0.14783535]\n",
      " [0.26255625 0.14771686 0.14771686]\n",
      " [0.26547354 0.14759837 0.14759837]\n",
      " [0.26839083 0.14747987 0.14747987]\n",
      " [0.27130812 0.14736138 0.14736138]\n",
      " [0.27422541 0.14724289 0.14724289]\n",
      " [0.2771427  0.1471244  0.1471244 ]\n",
      " [0.28006    0.1470059  0.1470059 ]\n",
      " [0.28297729 0.14688741 0.14688741]\n",
      " [0.28589458 0.14676892 0.14676892]\n",
      " [0.28881187 0.14665042 0.14665042]]\n"
     ]
    }
   ],
   "source": [
    "#parameters for testing multilinearity\n",
    "ind = 1 #pick specific group based on group id \n",
    "I = 100 #number of iterations\n",
    "varying_gene_vals = np.linspace(0, 1, 100)\n",
    "constant_gene_vals = gr_genomes[ind-1, 1:]\n",
    "var_gr_genome = np.column_stack([varying_gene_vals, np.tile(constant_gene_vals, (100, 1))]) #result is array of shape (100, N), with new values in first column and constant gr_genomes in other columns\n",
    "fm_var = create_fitness_matrix_g()\n",
    "coef_var = calc_a(K_g, fm_var)\n",
    "em_g_var = create_epistasis_matrix_g()\n",
    "print(em_g_var.shape)\n",
    "print(var_gr_genome.shape)\n",
    "\n",
    "a_rep = np.tile(coef_var[ind-1], (100, 1)) #Create new array for a_shape with values selected genome repeated 100 times\n",
    "fit_var = calculate_fitness_var(a_rep, em_g_var, var_gr_genome) #fitness components\n",
    "avg_fit_var = np.mean(fit_var, axis=1) #average fitness\n",
    "print(fit_var)"
   ]
  },
  {
   "cell_type": "code",
   "execution_count": 226,
   "metadata": {},
   "outputs": [
    {
     "data": {
      "image/png": "[encoded data removed]",
      "text/plain": [
       "<Figure size 640x480 with 1 Axes>"
      ]
     },
     "metadata": {},
     "output_type": "display_data"
    }
   ],
   "source": [
    "#visualisation for multilinearity test\n",
    "for i in range(fit_var.shape[1]):\n",
    "    plot.plot(np.array(range(len(fit_var))) / 100, fit_var[:, i], label=f'Fitness Component {i + 1}')\n",
    "\n",
    "# Plot average fitness as a dotted line\n",
    "plot.plot(np.array(range(len(fit_var))) / 100, avg_fit_var, color='k', linestyle='dotted', label='Average Fitness')\n",
    "\n",
    "plot.xlabel('Coordinate of gene 1')\n",
    "plot.ylabel('Fitness')\n",
    "plot.title('Varying the first coordinate of genome 1')\n",
    "plot.legend()\n",
    "plot.show() #all fitness components should change linearly"
   ]
  },
  {
   "cell_type": "code",
   "execution_count": 229,
   "metadata": {},
   "outputs": [
    {
     "ename": "SyntaxError",
     "evalue": "invalid syntax (3633026800.py, line 7)",
     "output_type": "error",
     "traceback": [
      "\u001b[1;36m  Cell \u001b[1;32mIn[229], line 7\u001b[1;36m\u001b[0m\n\u001b[1;33m    x3 =\u001b[0m\n\u001b[1;37m         ^\u001b[0m\n\u001b[1;31mSyntaxError\u001b[0m\u001b[1;31m:\u001b[0m invalid syntax\n"
     ]
    }
   ],
   "source": [
    "# tbd: varying two coords\n",
    "num_points = 100 \n",
    "x1_values = np.linspace(0, 1, num_points)\n",
    "x2_values = np.linspace(0, 1, num_points)\n",
    "#meshgrid from x1 and x2 values\n",
    "x1, x2 = np.meshgrid(x1_values, x2_values)\n",
    "x3 = \n",
    "grid_coords = np.column_stack([x1.flatten(), x2.flatten(), np.full_like(x1.flatten(), x3)])\n"
   ]
  },
  {
   "cell_type": "markdown",
   "metadata": {},
   "source": [
    "## The simulation"
   ]
  },
  {
   "cell_type": "code",
   "execution_count": 142,
   "metadata": {},
   "outputs": [
    {
     "ename": "NameError",
     "evalue": "name 'initialize_genomes' is not defined",
     "output_type": "error",
     "traceback": [
      "\u001b[1;31m---------------------------------------------------------------------------\u001b[0m",
      "\u001b[1;31mNameError\u001b[0m                                 Traceback (most recent call last)",
      "Cell \u001b[1;32mIn[142], line 12\u001b[0m\n\u001b[0;32m      8\u001b[0m em_g \u001b[38;5;241m=\u001b[39m create_epistasis_matrix_i()\n\u001b[0;32m     11\u001b[0m \u001b[38;5;66;03m# INIITIALIZE\u001b[39;00m\n\u001b[1;32m---> 12\u001b[0m genomes \u001b[38;5;241m=\u001b[39m initialize_genomes()\n\u001b[0;32m     13\u001b[0m t \u001b[38;5;241m=\u001b[39m \u001b[38;5;241m0\u001b[39m\n\u001b[0;32m     14\u001b[0m \u001b[38;5;66;03m# RUN SIMULATIONS\u001b[39;00m\n",
      "\u001b[1;31mNameError\u001b[0m: name 'initialize_genomes' is not defined"
     ]
    }
   ],
   "source": [
    "rd.seed(my_seed) # set random seed\n",
    "\n",
    "# CONSTRUCT FITNESS LANDSCAPES \n",
    "fm_i = create_fitness_matrix_i()\n",
    "fm_g = create_fitness_matrix_g()\n",
    "# Construct epistasis matrices\n",
    "em_i = create_epistasis_matrix_i()\n",
    "em_g = create_epistasis_matrix_i()\n",
    "\n",
    "\n",
    "# INIITIALIZE\n",
    "genomes = initialize_genomes()\n",
    "t = 0\n",
    "# RUN SIMULATIONS\n",
    "while t < t_end :\n",
    "    rates = update_rates()\n",
    "    propensity = sum(rates)\n",
    "    tau = np.random.exponential(scale=1 / propensity) # waiting time for next reaction\n",
    "    t = t + tau\n",
    "    event = choose_event(rates)\n",
    "    execute_reaction(event)\n"
   ]
  },
  {
   "cell_type": "markdown",
   "metadata": {},
   "source": [
    "## Results"
   ]
  }
 ],
 "metadata": {
  "kernelspec": {
   "display_name": "base",
   "language": "python",
   "name": "python3"
  },
  "language_info": {
   "codemirror_mode": {
    "name": "ipython",
    "version": 3
   },
   "file_extension": ".py",
   "mimetype": "text/x-python",
   "name": "python",
   "nbconvert_exporter": "python",
   "pygments_lexer": "ipython3",
   "version": "3.11.5"
  }
 },
 "nbformat": 4,
 "nbformat_minor": 2
}
