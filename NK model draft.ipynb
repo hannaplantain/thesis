{
 "cells": [
  {
   "cell_type": "markdown",
   "metadata": {},
   "source": [
    "## Model building"
   ]
  },
  {
   "cell_type": "code",
   "execution_count": 2,
   "metadata": {},
   "outputs": [],
   "source": [
    "import numpy as np\n",
    "#set values of N and K \n",
    "N = 4\n",
    "K = 2\n",
    "X = 2**(K+1) #total fitness contributions per gene (= columns in fitness matrix)"
   ]
  },
  {
   "cell_type": "markdown",
   "metadata": {},
   "source": [
    "Creating 3 matrices with versions of NK model:\n",
    "- NK - without neutrality\n",
    "- NKp - with neutrality (probabilistic)\n",
    "- NKq - with neutrality (quantised)"
   ]
  },
  {
   "cell_type": "markdown",
   "metadata": {},
   "source": [
    "*To-do:*\n",
    "* *- fix fmp so that:*\n",
    "    * *it is separate object*\n",
    "    * *- p is per value in array*\n",
    "* *code is shorter and one function?*\n",
    "* *fm selection done at start of code?*"
   ]
  },
  {
   "cell_type": "code",
   "execution_count": 48,
   "metadata": {},
   "outputs": [],
   "source": [
    "#create fitness matrix: np.array of shape (N,X), filled with random decimals \n",
    "fmk = np.random.rand(N, X)\n",
    "\n",
    "#NKp: reduce fraction of fitness contributions in fm to 0\n",
    "fmp = fmk.copy()\n",
    "p = ((N-1)/N) #is it? :)\n",
    "fmp[np.random.rand(*fmp.shape) < p] = 0\n",
    "\n",
    "#NKq: fitness contribution < 0.5 == 0, > 0.5 == 1\n",
    "fmq0 = fmk.copy()\n",
    "fmq1 = np.where(fmq0 > 0.5, 1.0, fmq0)\n",
    "fmq = np.where(fmq1 < 0.5, 0.0, fmq1)\n",
    "\n"
   ]
  },
  {
   "cell_type": "code",
   "execution_count": null,
   "metadata": {},
   "outputs": [],
   "source": [
    "#old fmp code, remove when new works\n",
    "\n",
    "#NKp: reduce fraction of fitness contributions in fm to 0\n",
    "#Number of elements to replace\n",
    "#p = ((N-1)/N)   \n",
    "#num_p = int(((N-1)/N) * (N*X)) #(with p = (N-1)/N (Geard 10.1109/CEC.2002.1006234)) ##Make choosing p easy and more neat\n",
    "#Random (x, y) coordinates\n",
    "#indices_x = np.random.randint(0, fmk.shape[0], num_p)\n",
    "#indices_y = np.random.randint(0, fmk.shape[1], num_p)\n",
    "#fmp = fmk[indices_x, indices_y] = 0 # fix so 1) fmp is separate object from fmk (rn only works if fmp=>fm), 2) p is per value\n",
    "#fmp = fmk.copy() #?\n",
    "\n",
    "#check: below can be removed in final code\n",
    "#print(\"fitness matrix without neutrality (fmk)\")\n",
    "#print(fmk) #no neutrality\n",
    "#print(\"fitness matrix probabilistic NK (fmp)\")\n",
    "#print(fmp) #probabilistic NK\n",
    "#print(\"fitness matrix quantised NK (fmq)\")\n",
    "#print(fmq) # = quantised NK"
   ]
  },
  {
   "cell_type": "markdown",
   "metadata": {},
   "source": [
    "Choose neutrality version:"
   ]
  },
  {
   "cell_type": "code",
   "execution_count": 4,
   "metadata": {},
   "outputs": [],
   "source": [
    "#replace fmk in following line with \"fmp\" or \"fmq\" when adding probabilistic or quantised neutrality to model\n",
    "fm = np.copy(fmk) \n",
    "#makes deep copies (as does fmp/fmq before) maybe not necessary?"
   ]
  },
  {
   "cell_type": "markdown",
   "metadata": {},
   "source": [
    "Creating corresponding epistasis matrix"
   ]
  },
  {
   "cell_type": "code",
   "execution_count": 5,
   "metadata": {},
   "outputs": [
    {
     "name": "stdout",
     "output_type": "stream",
     "text": [
      "[[0 1 2 3 4 5 6 7]\n",
      " [0 1 2 3 4 5 6 7]\n",
      " [0 1 2 3 4 5 6 7]\n",
      " [0 1 2 3 4 5 6 7]]\n",
      "identity matrix\n",
      "[['0000' '0001' '0010' '0011' '0100' '0101' '0110' '0111']\n",
      " ['0000' '0001' '0010' '0011' '0100' '0101' '0110' '0111']\n",
      " ['0000' '0001' '0010' '0011' '0100' '0101' '0110' '0111']\n",
      " ['0000' '0001' '0010' '0011' '0100' '0101' '0110' '0111']]\n",
      "(4, 8)\n"
     ]
    }
   ],
   "source": [
    "#to do\n",
    "\n",
    "#creates \"identity matrix\": array with genomes\n",
    "im0 = np.arange(0, X, 1)\n",
    "im1 = im0[np.newaxis, :]\n",
    "im = np.repeat(im1, N, axis=0)\n",
    "print(im)\n",
    "\n",
    "#Binary representation of im (just for visualisation)\n",
    "imbin = np.vectorize(np.binary_repr)(im, 4) #increase to 8/16/32 with larger N \n",
    "print(\"identity matrix\")\n",
    "print(imbin)\n",
    "#check if shape is same\n",
    "print(imbin.shape)\n",
    "\n",
    "em0 = np.arange(0, N, 1)\n",
    "em = np.random.rand(N, 1)\n",
    "\n",
    "x = np.random.randint(1, 2, (N,K))\n"
   ]
  },
  {
   "cell_type": "code",
   "execution_count": 50,
   "metadata": {},
   "outputs": [
    {
     "name": "stdout",
     "output_type": "stream",
     "text": [
      "[[4 3]\n",
      " [1 3]\n",
      " [2 2]\n",
      " [2 2]]\n"
     ]
    }
   ],
   "source": [
    "#important: in this version each gene influenced by K others, but genes \n",
    "# can influence >2 other genes, so some are (way) more influential than others\n",
    "# print a few times to see\n",
    "import random\n",
    "val = list(range(1, N+1))\n",
    "em1 = []\n",
    "for row in range(1, N+1):\n",
    "    val.remove(row)\n",
    "    em1.append([random.choice(val), random.choice(val)])\n",
    "    val.append(row)\n",
    "#print(em1)\n",
    "em1 = np.array(em1)\n",
    "print(em1)\n"
   ]
  },
  {
   "cell_type": "code",
   "execution_count": 46,
   "metadata": {},
   "outputs": [
    {
     "name": "stdout",
     "output_type": "stream",
     "text": [
      "[[2 4]\n",
      " [1 4]\n",
      " [2 2]\n",
      " [2 2]]\n",
      "[[4 3]\n",
      " [1 4]\n",
      " [2 1]\n",
      " [3 2]]\n"
     ]
    }
   ],
   "source": [
    "#important: in this version each gene influenced by K others, \n",
    "# and influences K others, so all equally influential\n",
    "# print a few times to see\n",
    "\n",
    "import random\n",
    "\n",
    "def generate_all_moved_permutation_tree(level, nums):\n",
    "    if len(nums) == 0:\n",
    "        raise RunTimeError('generate_permutation_tree must be called with a non-empty nums list')\n",
    "    if len(nums) == 1:\n",
    "        if level == nums[0]:\n",
    "            return None\n",
    "        else:\n",
    "            return {nums[0]: {}}\n",
    "    allowed_nums = list(nums)\n",
    "    if level in allowed_nums:\n",
    "        allowed_nums.remove(level)\n",
    "    result = {}\n",
    "    for n in allowed_nums:\n",
    "        sublevel_nums = list(nums)\n",
    "        if n in sublevel_nums:\n",
    "            sublevel_nums.remove(n)\n",
    "        subtree = generate_all_moved_permutation_tree(level+1, sublevel_nums)\n",
    "        if subtree is not None:\n",
    "            result[n] = subtree\n",
    "    if len(result) == 0:\n",
    "        return None\n",
    "    return result\n",
    "\n",
    "def pick_an_all_moved_permutation(all_moved_permutation_tree):\n",
    "    n = random.choice(list(all_moved_permutation_tree))\n",
    "    l = [n]\n",
    "    sub_tree = all_moved_permutation_tree[n]\n",
    "    if len(sub_tree) > 0:\n",
    "        l.extend(pick_an_all_moved_permutation(sub_tree))\n",
    "    return l\n",
    "\n",
    "t = generate_all_moved_permutation_tree(1, range(1,5))\n",
    "em2 = list(zip(pick_an_all_moved_permutation(t), pick_an_all_moved_permutation(t)))\n",
    "em2 = np.array(em2)\n",
    "\n",
    "print(em1) #for comparison with and without replacement\n",
    "print(em2)"
   ]
  },
  {
   "cell_type": "code",
   "execution_count": null,
   "metadata": {},
   "outputs": [],
   "source": [
    "#first em tries that didn't work (remove from final code):\n",
    "#np.random.shuffle(em0[:,0])\n",
    "#np.random.shuffle(em0[:,1])\n",
    "#print(em0) \n",
    "#this does not work because it does not exclude row value itself\n",
    "\n",
    "#for col in range(em.shape[1]): \n",
    "    #np.random.shuffle(em[:,col])\n",
    "#if np.setdiff1d(em, em0, em0.size > 0) == N*K: \n",
    "#this does not work because it loops per row"
   ]
  },
  {
   "cell_type": "markdown",
   "metadata": {},
   "source": [
    "Calculating coefficients ai0 to aij"
   ]
  },
  {
   "cell_type": "markdown",
   "metadata": {},
   "source": [
    "*To-do*\n",
    "* *annotate more clearly*\n"
   ]
  },
  {
   "cell_type": "code",
   "execution_count": 47,
   "metadata": {},
   "outputs": [
    {
     "name": "stdout",
     "output_type": "stream",
     "text": [
      "Coefficient matrix fmq\n",
      "[[ 0.24205212  0.66380135 -0.19061641 -0.30240139 -0.13748196  0.12530041\n",
      "   0.72569477 -0.91148981]\n",
      " [ 0.59453673  0.11451389 -0.03320204 -0.63863587  0.03701525 -0.55839875\n",
      "  -0.01673426  0.56624105]\n",
      " [ 0.92951227 -0.86693889 -0.17657679  1.05578942 -0.9123321   1.81106915\n",
      "   1.0186448  -2.29409743]\n",
      " [ 0.93783871 -0.70550248 -0.85808994  1.16141227 -0.04718263  0.80537302\n",
      "   0.44645969 -1.55478013]]\n"
     ]
    }
   ],
   "source": [
    "def calc_a(K, fm): \n",
    "    a_coef = []\n",
    "    #explain for loop\n",
    "    for r in fm:\n",
    "        a = [0.0] * X  # creates list with zeros as floats for each row & X cols\n",
    "        \n",
    "        # Calculate ai0 for i = 0\n",
    "        a[0] = r[0] #because ai0=Fi0\n",
    "        \n",
    "        for j in range(1, X): \n",
    "            sum = 0.0 \n",
    "            for l in range(0, j): #only already calculated coeff\n",
    "                if l == (l & j): #if l equal to bitwise AND of l and j (001&101->001 so TRUE, 001&100->000 so FALSE)\n",
    "                    sum += a[l] \n",
    "            a[j] = r[j] - sum \n",
    "        a_coef.append(a) # append new a's into a_values array\n",
    "        \n",
    "    return a_coef\n",
    "\n",
    "a_coef = calc_a(K, fm)\n",
    "\n",
    "a_shape = np.reshape(a_coef, (N,X))\n",
    "\n",
    "if fm.all == fmk.all: \n",
    "    print(\"Coefficient matrix fmk\")\n",
    "elif fm.all == fmp.all:\n",
    "    print(\"Coefficient matrix fmp\")\n",
    "else: \n",
    "    print(\"Coefficient matrix fmq\")\n",
    "print(a_shape) #all coefficients in same shape as fm1"
   ]
  },
  {
   "cell_type": "markdown",
   "metadata": {},
   "source": [
    "Compute model for genome fitness"
   ]
  },
  {
   "cell_type": "code",
   "execution_count": null,
   "metadata": {},
   "outputs": [],
   "source": [
    "#To-do"
   ]
  }
 ],
 "metadata": {
  "kernelspec": {
   "display_name": "Python 3",
   "language": "python",
   "name": "python3"
  },
  "language_info": {
   "codemirror_mode": {
    "name": "ipython",
    "version": 3
   },
   "file_extension": ".py",
   "mimetype": "text/x-python",
   "name": "python",
   "nbconvert_exporter": "python",
   "pygments_lexer": "ipython3",
   "version": "3.10.8"
  }
 },
 "nbformat": 4,
 "nbformat_minor": 2
}
