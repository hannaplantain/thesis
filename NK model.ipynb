{
 "cells": [
  {
   "cell_type": "markdown",
   "metadata": {},
   "source": [
    "## NK Model"
   ]
  },
  {
   "cell_type": "code",
   "execution_count": 116,
   "metadata": {},
   "outputs": [],
   "source": [
    "#import necessary packages\n",
    "import numpy as np\n",
    "import random as rd\n",
    "#set values of N and K here\n",
    "N = 4\n",
    "K = 2\n",
    "B = 2**(K+1) #=total fitness contributions per gene (= columns in fitness matrix)\n",
    "M = 4 #total number of individuals (= # average genomes or groups)"
   ]
  },
  {
   "cell_type": "markdown",
   "metadata": {},
   "source": [
    "Creating 3 matrices with versions of NK model:\n",
    "- NK - without neutrality\n",
    "- NKp - with neutrality (probabilistic)\n",
    "- NKq - with neutrality (quantised)"
   ]
  },
  {
   "cell_type": "code",
   "execution_count": 117,
   "metadata": {},
   "outputs": [],
   "source": [
    "#create fitness matrix without neutrality: simply array of shape (N,X), filled with random decimals \n",
    "fmk = np.random.rand(N, B)\n",
    "\n",
    "#NKp: reduce fraction of fitness contributions in fm to 0\n",
    "# p = probability a value is set to 0\n",
    "# Verel et al.: p ∈ {0.5, 0.8, 0.9}; Geard et al. p = ((N-1)/N) -  but explore options\n",
    "p = ((N-1)/N) #is it? :)\n",
    "fmp = np.where(np.random.rand(*fmk.shape) < p, 0, fmk) \n",
    "#takes array of shape fmk and filled with random decimals, and if decimals in that array are below p, corresponding decimal from fmk becomes 0 in new array fmp\n",
    "\n",
    "#NKq: fitness contribution < 0.5 == 0, > 0.5 == 1\n",
    "# q = number of quantiles (or levels). q > 1 - i.e. setting q as 2 will divide the decimals in two groups of integers: 0 and 1. \n",
    "# Verel et al. (2011) - q ∈ {2, 4, 10} - but explore options - Higher q -> lower neutrality \n",
    "q = 4\n",
    "fmq = np.digitize(fmk, bins=np.linspace(0, 1, q+1), right=True) - 1\n",
    "#decimals from fmk split into q bins numbered from 0 to q-1, based on their decimal value, new values in array fmq"
   ]
  },
  {
   "cell_type": "markdown",
   "metadata": {},
   "source": [
    "Choose neutrality version:"
   ]
  },
  {
   "cell_type": "code",
   "execution_count": 4,
   "metadata": {},
   "outputs": [
    {
     "ename": "NameError",
     "evalue": "name 'np' is not defined",
     "output_type": "error",
     "traceback": [
      "\u001b[1;31m---------------------------------------------------------------------------\u001b[0m",
      "\u001b[1;31mNameError\u001b[0m                                 Traceback (most recent call last)",
      "\u001b[1;32mc:\\Users\\User\\Desktop\\Python practice\\NK model.ipynb Cell 6\u001b[0m line \u001b[0;36m4\n\u001b[0;32m      <a href='vscode-notebook-cell:/c%3A/Users/User/Desktop/Python%20practice/NK%20model.ipynb#W5sZmlsZQ%3D%3D?line=0'>1</a>\u001b[0m \u001b[39m#replace fmk in following line with \"fmp\" or \"fmq\" when adding probabilistic or quantized neutrality to model\u001b[39;00m\n\u001b[0;32m      <a href='vscode-notebook-cell:/c%3A/Users/User/Desktop/Python%20practice/NK%20model.ipynb#W5sZmlsZQ%3D%3D?line=1'>2</a>\u001b[0m \u001b[39m#note: maybe for final code: one function to create model versions and choose \u001b[39;00m\n\u001b[0;32m      <a href='vscode-notebook-cell:/c%3A/Users/User/Desktop/Python%20practice/NK%20model.ipynb#W5sZmlsZQ%3D%3D?line=2'>3</a>\u001b[0m \u001b[39m##als het lukt?\u001b[39;00m\n\u001b[1;32m----> <a href='vscode-notebook-cell:/c%3A/Users/User/Desktop/Python%20practice/NK%20model.ipynb#W5sZmlsZQ%3D%3D?line=3'>4</a>\u001b[0m fm \u001b[39m=\u001b[39m np\u001b[39m.\u001b[39mcopy(fmk) \n\u001b[0;32m      <a href='vscode-notebook-cell:/c%3A/Users/User/Desktop/Python%20practice/NK%20model.ipynb#W5sZmlsZQ%3D%3D?line=4'>5</a>\u001b[0m \u001b[39mprint\u001b[39m(fm)\n",
      "\u001b[1;31mNameError\u001b[0m: name 'np' is not defined"
     ]
    }
   ],
   "source": [
    "#replace fmk in following line with \"fmp\" or \"fmq\" when adding probabilistic or quantized neutrality to model\n",
    "#note: maybe for final code: one function to create model versions and choose \n",
    "##als het lukt?\n",
    "fm = np.copy(fmk) \n",
    "print(fm)"
   ]
  },
  {
   "cell_type": "markdown",
   "metadata": {},
   "source": [
    "Creating corresponding epistasis matrix"
   ]
  },
  {
   "cell_type": "code",
   "execution_count": 119,
   "metadata": {},
   "outputs": [
    {
     "name": "stdout",
     "output_type": "stream",
     "text": [
      "identity matrix\n",
      "[[0 1 2 3 4 5 6 7]\n",
      " [0 1 2 3 4 5 6 7]\n",
      " [0 1 2 3 4 5 6 7]\n",
      " [0 1 2 3 4 5 6 7]]\n",
      "binary identity matrix\n",
      "[['0000' '0001' '0010' '0011' '0100' '0101' '0110' '0111']\n",
      " ['0000' '0001' '0010' '0011' '0100' '0101' '0110' '0111']\n",
      " ['0000' '0001' '0010' '0011' '0100' '0101' '0110' '0111']\n",
      " ['0000' '0001' '0010' '0011' '0100' '0101' '0110' '0111']]\n"
     ]
    }
   ],
   "source": [
    "#creates \"identity matrix\": array with genome id's\n",
    "im0 = np.arange(0, B, 1)\n",
    "im1 = im0[np.newaxis, :]\n",
    "im = np.repeat(im1, N, axis=0)\n",
    "print(\"identity matrix\")\n",
    "print(im)\n",
    "\n",
    "#Binary representation of im (just for visualisation)\n",
    "imbin = np.vectorize(np.binary_repr)(im, 4) #increase 4 to to 8/16/32 with larger N \n",
    "print(\"binary identity matrix\")\n",
    "print(imbin)\n",
    "#maybe useful later"
   ]
  },
  {
   "cell_type": "code",
   "execution_count": 137,
   "metadata": {},
   "outputs": [
    {
     "name": "stdout",
     "output_type": "stream",
     "text": [
      "[[0 3 0]\n",
      " [1 2 1]\n",
      " [3 2 2]\n",
      " [3 1 3]]\n"
     ]
    }
   ],
   "source": [
    "#important: in this version each gene influenced by K others, but genes \n",
    "# can influence >2 other genes, so some are (way) more influential than others\n",
    "# print a few times to see\n",
    "val = list(range(0, N))\n",
    "em1 = []\n",
    "\n",
    "for row in range(N):\n",
    "    rd.shuffle(val)  #shuffle the values\n",
    "    em1.append(val[:2] + [row])  #epistatic genes as pair and row number added\n",
    "\n",
    "em1_inc = np.array(em1) #with own gene referenced\n",
    "print(em1_inc)\n",
    "\n",
    "em1 = (em1_inc[:, :-1]) #without own gene referenced\n"
   ]
  },
  {
   "cell_type": "code",
   "execution_count": 126,
   "metadata": {},
   "outputs": [
    {
     "name": "stdout",
     "output_type": "stream",
     "text": [
      "Epistasis matrix with repetition\n",
      "[[0 1 0]\n",
      " [1 2 1]\n",
      " [1 3 2]\n",
      " [2 3 3]]\n",
      "Epistasis matrix without repetition\n",
      "[[3 1 0]\n",
      " [2 0 1]\n",
      " [1 3 2]\n",
      " [0 2 3]]\n"
     ]
    }
   ],
   "source": [
    "#important: in this version each gene influenced by K others, and influences K others, so all equally influential\n",
    "#help from stackoverflow user\n",
    "#generates tree (nested dictionary) of all possible permutations of list of numbers except for a specified level\n",
    "def generate_all_moved_perm_tree(level, nums):\n",
    "    if len(nums) == 1:\n",
    "        if level == nums[0]:\n",
    "            return None\n",
    "        else:\n",
    "            return {nums[0]: {}}\n",
    "    allowed_n = list(nums)\n",
    "    if level in allowed_n:\n",
    "        allowed_n.remove(level)\n",
    "    result = {}\n",
    "    for n in allowed_n:\n",
    "        sublevel_n = list(nums)\n",
    "        if n in sublevel_n:\n",
    "            sublevel_n.remove(n)\n",
    "        subtree = generate_all_moved_perm_tree(level + 1, sublevel_n)\n",
    "        if subtree is not None:\n",
    "            result[n] = subtree\n",
    "    if len(result) == 0:\n",
    "        return None\n",
    "    return result\n",
    "\n",
    "#picks permutation of numbers from previously generated tree, with each number selected only once\n",
    "def pick_all_moved_perm(all_moved_perm_tree, picked=None):\n",
    "    if picked is None:\n",
    "        picked = set()\n",
    "    allowed_ns = set(all_moved_perm_tree.keys()) - picked\n",
    "    if not allowed_ns:\n",
    "        return []\n",
    "    n = rd.choice(list(allowed_ns))\n",
    "    picked.add(n)\n",
    "    l = [n]\n",
    "    sub_tree = all_moved_perm_tree[n]\n",
    "    if len(sub_tree) > 0:\n",
    "        l.extend(pick_all_moved_perm(sub_tree, picked))\n",
    "    return l\n",
    "\n",
    "#generates array of unique pairs of numbers, with no number repeated in row \n",
    "def generate_unique_r(t, num_rows):\n",
    "    result = []\n",
    "    for _ in range(num_rows):\n",
    "        row = list(zip(pick_all_moved_perm(t), pick_all_moved_perm(t)))\n",
    "        while any(x[0] == x[1] for x in row):\n",
    "            row = list(zip(pick_all_moved_perm(t), pick_all_moved_perm(t)))\n",
    "        result.extend(row)\n",
    "    return np.array(result[:num_rows])\n",
    "\n",
    "t = generate_all_moved_perm_tree(1, range(1, N+1))\n",
    "em2 = generate_unique_r(t, N)\n",
    "\n",
    "#for comparison: (can be removed)\n",
    "print(\"Epistasis matrix with repetition\")\n",
    "print(em1_inc)\n",
    "print(\"Epistasis matrix without repetition\")\n",
    "em2 -= 1 #without own gene referenced\n",
    "\n",
    "em2_inc = np.hstack((em2, np.arange(em2.shape[0]).reshape(-1, 1)))\n",
    "print(em2_inc) #with own gene referenced \n",
    "\n",
    "##er moet een manier zijn om dit makkelijker te doen???"
   ]
  },
  {
   "cell_type": "markdown",
   "metadata": {},
   "source": [
    "Calculating coefficients ai0 to aij"
   ]
  },
  {
   "cell_type": "code",
   "execution_count": 141,
   "metadata": {},
   "outputs": [
    {
     "name": "stdout",
     "output_type": "stream",
     "text": [
      "Coefficient matrix fmk\n",
      "[[ 0.04674929  0.69211041  0.68204748 -1.20443915  0.28022881 -0.27677828\n",
      "  -0.25674565  0.1568738 ]\n",
      " [ 0.35547535 -0.06808769  0.43787992 -0.00617564  0.00536373  0.46898969\n",
      "   0.12777526 -0.36675551]\n",
      " [ 0.91786441  0.0111403  -0.16308204 -0.30922026 -0.44602554 -0.41051432\n",
      "   0.13158377  1.1948973 ]\n",
      " [ 0.8474581  -0.01880006 -0.41437931 -0.3290835  -0.72324412  0.36862523\n",
      "   0.50750246  0.64562796]]\n"
     ]
    }
   ],
   "source": [
    "def calc_a(K, fm): \n",
    "    a_coef = []\n",
    "    for r in fm:\n",
    "        a = [0.0] * B  # creates list with zeros as floats for each row & X cols\n",
    "        a[0] = r[0] #because ai0=Fi0 # Calculate ai0 for i = 0\n",
    "        for j in range(1, B): \n",
    "            sum = 0.0 \n",
    "            for l in range(0, j): #only already calculated coefficients\n",
    "                if l == (l & j): #if l equal to bitwise AND of l and j (ex: 001&101->001 so TRUE, 001&100->000 so FALSE)\n",
    "                    sum += a[l] \n",
    "            a[j] = r[j] - sum \n",
    "        a_coef.append(a) # append new a's into a_values array\n",
    "    return a_coef\n",
    "\n",
    "a_coef = calc_a(K, fm)\n",
    "a_shape = np.reshape(a_coef, (N, B))\n",
    "\n",
    "if np.array_equal(fm, fmk): \n",
    "    print(\"Coefficient matrix fmk\")\n",
    "elif np.array_equal(fm, fmp):\n",
    "    print(\"Coefficient matrix fmp\")\n",
    "else: \n",
    "    print(\"Coefficient matrix fmq\")\n",
    "print(a_shape) "
   ]
  },
  {
   "cell_type": "markdown",
   "metadata": {},
   "source": [
    "Compute model for genome fitness"
   ]
  },
  {
   "cell_type": "code",
   "execution_count": 142,
   "metadata": {},
   "outputs": [
    {
     "name": "stdout",
     "output_type": "stream",
     "text": [
      "coordinates within hypercube/avg. gene values (dimension N) of individual 1 to A\n",
      "[[0.00675516 0.71626472 0.32047278 0.88000026]\n",
      " [0.75335235 0.58444164 0.66200486 0.3722755 ]\n",
      " [0.80772612 0.19461838 0.28092823 0.15015187]\n",
      " [0.61574173 0.41775861 0.50666481 0.86022452]]\n",
      "[[ 0.04674929  0.69211041  0.68204748 -1.20443915  0.28022881 -0.27677828\n",
      "  -0.25674565  0.1568738 ]\n",
      " [ 0.35547535 -0.06808769  0.43787992 -0.00617564  0.00536373  0.46898969\n",
      "   0.12777526 -0.36675551]\n",
      " [ 0.91786441  0.0111403  -0.16308204 -0.30922026 -0.44602554 -0.41051432\n",
      "   0.13158377  1.1948973 ]\n",
      " [ 0.8474581  -0.01880006 -0.41437931 -0.3290835  -0.72324412  0.36862523\n",
      "   0.50750246  0.64562796]]\n",
      "[[0.00675516 0.71626472 0.32047278 0.88000026]\n",
      " [0.75335235 0.58444164 0.66200486 0.3722755 ]\n",
      " [0.80772612 0.19461838 0.28092823 0.15015187]\n",
      " [0.61574173 0.41775861 0.50666481 0.86022452]]\n",
      "[[3 1 0]\n",
      " [2 0 1]\n",
      " [1 3 2]\n",
      " [0 2 3]]\n"
     ]
    }
   ],
   "source": [
    "#array with all individuals\n",
    "coords = np.random.rand(M, N) #randomly generates coordinates within hypercube for all individuals\n",
    "print(\"coordinates within hypercube/avg. gene values (dimension N) of individual 1 to A\")\n",
    "print(coords)\n",
    "#replace by actual averages of individual genomes in each group in final integrated code!\n",
    "\n",
    "ind = 3 #pick specific individual based on id - can change final function to just look at one specific individual\n",
    "select = coords[ind-1,:] \n",
    "#for reference/checking, can be removed\n",
    "print(a_shape)\n",
    "print(coords)\n",
    "print(em2_inc)\n"
   ]
  },
  {
   "cell_type": "code",
   "execution_count": 2,
   "metadata": {},
   "outputs": [
    {
     "ename": "NameError",
     "evalue": "name 'em2_inc' is not defined",
     "output_type": "error",
     "traceback": [
      "\u001b[1;31m---------------------------------------------------------------------------\u001b[0m",
      "\u001b[1;31mNameError\u001b[0m                                 Traceback (most recent call last)",
      "\u001b[1;32mc:\\Users\\User\\Desktop\\Python practice\\NK model.ipynb Cell 15\u001b[0m line \u001b[0;36m2\n\u001b[0;32m      <a href='vscode-notebook-cell:/c%3A/Users/User/Desktop/Python%20practice/NK%20model.ipynb#X20sZmlsZQ%3D%3D?line=0'>1</a>\u001b[0m \u001b[39m#choose preferred epistasis version (em1: with repetition, em2: without)\u001b[39;00m\n\u001b[1;32m----> <a href='vscode-notebook-cell:/c%3A/Users/User/Desktop/Python%20practice/NK%20model.ipynb#X20sZmlsZQ%3D%3D?line=1'>2</a>\u001b[0m em \u001b[39m=\u001b[39m em2_inc\n\u001b[0;32m      <a href='vscode-notebook-cell:/c%3A/Users/User/Desktop/Python%20practice/NK%20model.ipynb#X20sZmlsZQ%3D%3D?line=3'>4</a>\u001b[0m \u001b[39m#Calculate fitness components fi based on relevant coefficients and coordinates\u001b[39;00m\n\u001b[0;32m      <a href='vscode-notebook-cell:/c%3A/Users/User/Desktop/Python%20practice/NK%20model.ipynb#X20sZmlsZQ%3D%3D?line=4'>5</a>\u001b[0m \u001b[39mdef\u001b[39;00m \u001b[39mcalculate_fitness\u001b[39m(coefficients, epistasis, genomes):\n",
      "\u001b[1;31mNameError\u001b[0m: name 'em2_inc' is not defined"
     ]
    }
   ],
   "source": [
    "#choose preferred epistasis version (em1: with repetition, em2: without)\n",
    "em = em2_inc\n",
    "\n",
    "#Calculate fitness components fi based on relevant coefficients and coordinates\n",
    "def calculate_fitness(coefficients, epistasis, genomes):\n",
    "    fit_val = np.zeros((M, N))\n",
    "\n",
    "    for group in range(M):\n",
    "        genome = genomes[group]\n",
    "\n",
    "        for gene in range(N):\n",
    "            result = 0  # Initialize with 0\n",
    "\n",
    "            for j in range(coefficients.shape[1]): #summation & multiplication,bitwise \n",
    "                contribution = coefficients[gene, j] * genome[gene] ** (1 & j)\n",
    "\n",
    "                for k in range(epistasis.shape[1]): \n",
    "                    epi_index = epistasis[gene, k]\n",
    "                    epi_value = genome[epi_index]\n",
    "                    product_term = epi_value ** ((2**k & j) / 2**k)\n",
    "                    contribution *= product_term\n",
    "                result += contribution\n",
    "                ##aaah eindelijk?!\n",
    "            fit_val[group, gene] = result\n",
    "\n",
    "    return fit_val\n",
    "\n",
    "fitness = calculate_fitness(a_shape, em, coords)\n",
    "#M groups&avg genomes so M rows, N genes so N cols with fitness components Fi-\n",
    "print(\"Fitness components:\")\n",
    "print(fitness)\n",
    "\n",
    "#print fitness of avg. genome\n",
    "fit = np.mean(fitness, axis=1,)\n",
    "final = fit.reshape(-1, 1)\n",
    "print(\"Avg. fitness of each genotype (group):\")\n",
    "print(final)\n",
    "\n",
    "\n"
   ]
  },
  {
   "cell_type": "code",
   "execution_count": null,
   "metadata": {},
   "outputs": [],
   "source": []
  }
 ],
 "metadata": {
  "kernelspec": {
   "display_name": "Python 3",
   "language": "python",
   "name": "python3"
  },
  "language_info": {
   "codemirror_mode": {
    "name": "ipython",
    "version": 3
   },
   "file_extension": ".py",
   "mimetype": "text/x-python",
   "name": "python",
   "nbconvert_exporter": "python",
   "pygments_lexer": "ipython3",
   "version": "3.11.5"
  }
 },
 "nbformat": 4,
 "nbformat_minor": 2
}
